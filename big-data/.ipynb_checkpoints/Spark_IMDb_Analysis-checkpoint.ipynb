{
 "cells": [
  {
   "cell_type": "markdown",
   "metadata": {},
   "source": [
    "# Analysis of IMDb Movie Ratings\n",
    "Spark Practice\n",
    "\n",
    "Author: **Iñigo Hidalgo Rey** \n",
    "\n",
    "### Outline\n",
    "1. [Setup](#Setup)\n",
    "2. [Exploratory Data Analysis](#Exploratory-Data-Analysis)\n",
    "3. [Exploration of genres](#Exploration-of-genres)\n",
    "4. [Analyzing directors](#Analyzing-directors)"
   ]
  },
  {
   "cell_type": "markdown",
   "metadata": {},
   "source": [
    "This is an analysis of the [IMDb Datasets](https://datasets.imdbws.com/) using the Python Spark API."
   ]
  },
  {
   "cell_type": "markdown",
   "metadata": {},
   "source": [
    "# Setup\n",
    "\n",
    "Spark import and setup:"
   ]
  },
  {
   "cell_type": "code",
   "execution_count": 1,
   "metadata": {},
   "outputs": [],
   "source": [
    "import findspark\n",
    "findspark.init()\n",
    "\n",
    "from pyspark.context import SparkContext\n",
    "from pyspark.sql.session import SparkSession\n",
    "\n",
    "\n",
    "sc = SparkContext.getOrCreate()\n",
    "spark = SparkSession(sc)"
   ]
  },
  {
   "cell_type": "code",
   "execution_count": 2,
   "metadata": {},
   "outputs": [],
   "source": [
    "from pyspark.sql.functions import *\n",
    "from pyspark.sql.types import *"
   ]
  },
  {
   "cell_type": "markdown",
   "metadata": {},
   "source": [
    "Libraries:"
   ]
  },
  {
   "cell_type": "code",
   "execution_count": 3,
   "metadata": {},
   "outputs": [],
   "source": [
    "import numpy as np\n",
    "import pandas as pd\n",
    "import seaborn as sns\n",
    "import matplotlib.pyplot as plt\n",
    "sns.set_theme()\n",
    "\n",
    "from IPython.display import display, Markdown"
   ]
  },
  {
   "cell_type": "markdown",
   "metadata": {},
   "source": [
    "## Data preparation"
   ]
  },
  {
   "cell_type": "markdown",
   "metadata": {},
   "source": [
    "Data import:"
   ]
  },
  {
   "cell_type": "code",
   "execution_count": 4,
   "metadata": {},
   "outputs": [],
   "source": [
    "ratings = spark.read \\\n",
    "            .option(\"inferSchema\", \"true\") \\\n",
    "            .option(\"header\", \"true\") \\\n",
    "            .csv(\"title.ratings.tsv\", sep=r\"\\t\", nullValue=\"\\\\N\").cache()"
   ]
  },
  {
   "cell_type": "code",
   "execution_count": 5,
   "metadata": {},
   "outputs": [],
   "source": [
    "info = spark.read \\\n",
    "            .option(\"inferSchema\", \"true\") \\\n",
    "            .option(\"header\", \"true\") \\\n",
    "            .csv(\"title.basics.tsv\", sep=r\"\\t\", nullValue=\"\\\\N\").cache()"
   ]
  },
  {
   "cell_type": "code",
   "execution_count": 6,
   "metadata": {},
   "outputs": [],
   "source": [
    "people = spark.read \\\n",
    "            .option(\"inferSchema\", \"true\") \\\n",
    "            .option(\"header\", \"true\") \\\n",
    "            .csv(\"name.basics.tsv\", sep=r\"\\t\", nullValue=\"\\\\N\").cache()"
   ]
  },
  {
   "cell_type": "code",
   "execution_count": 7,
   "metadata": {},
   "outputs": [],
   "source": [
    "collaborations = spark.read \\\n",
    "            .option(\"inferSchema\", \"true\") \\\n",
    "            .option(\"header\", \"true\") \\\n",
    "            .csv(\"title.principals.tsv\", sep=r\"\\t\", nullValue=\"\\\\N\").cache()"
   ]
  },
  {
   "cell_type": "code",
   "execution_count": 8,
   "metadata": {},
   "outputs": [
    {
     "data": {
      "text/markdown": [
       "The ratings DataFrame has **1120939 rows** and schema:"
      ],
      "text/plain": [
       "<IPython.core.display.Markdown object>"
      ]
     },
     "metadata": {},
     "output_type": "display_data"
    },
    {
     "name": "stdout",
     "output_type": "stream",
     "text": [
      "root\n",
      " |-- tconst: string (nullable = true)\n",
      " |-- averageRating: double (nullable = true)\n",
      " |-- numVotes: integer (nullable = true)\n",
      "\n"
     ]
    },
    {
     "data": {
      "text/markdown": [
       "The movie names DataFrame has **7594498 rows** and schema:"
      ],
      "text/plain": [
       "<IPython.core.display.Markdown object>"
      ]
     },
     "metadata": {},
     "output_type": "display_data"
    },
    {
     "name": "stdout",
     "output_type": "stream",
     "text": [
      "root\n",
      " |-- tconst: string (nullable = true)\n",
      " |-- titleType: string (nullable = true)\n",
      " |-- primaryTitle: string (nullable = true)\n",
      " |-- originalTitle: string (nullable = true)\n",
      " |-- isAdult: integer (nullable = true)\n",
      " |-- startYear: integer (nullable = true)\n",
      " |-- endYear: integer (nullable = true)\n",
      " |-- runtimeMinutes: string (nullable = true)\n",
      " |-- genres: string (nullable = true)\n",
      "\n"
     ]
    },
    {
     "data": {
      "text/markdown": [
       "The people info DataFrame has **10727199 rows** and schema:"
      ],
      "text/plain": [
       "<IPython.core.display.Markdown object>"
      ]
     },
     "metadata": {},
     "output_type": "display_data"
    },
    {
     "name": "stdout",
     "output_type": "stream",
     "text": [
      "root\n",
      " |-- nconst: string (nullable = true)\n",
      " |-- primaryName: string (nullable = true)\n",
      " |-- birthYear: integer (nullable = true)\n",
      " |-- deathYear: integer (nullable = true)\n",
      " |-- primaryProfession: string (nullable = true)\n",
      " |-- knownForTitles: string (nullable = true)\n",
      "\n"
     ]
    },
    {
     "data": {
      "text/markdown": [
       "The movie workers DataFrame has **43133810 rows** and schema:"
      ],
      "text/plain": [
       "<IPython.core.display.Markdown object>"
      ]
     },
     "metadata": {},
     "output_type": "display_data"
    },
    {
     "name": "stdout",
     "output_type": "stream",
     "text": [
      "root\n",
      " |-- tconst: string (nullable = true)\n",
      " |-- ordering: integer (nullable = true)\n",
      " |-- nconst: string (nullable = true)\n",
      " |-- category: string (nullable = true)\n",
      " |-- job: string (nullable = true)\n",
      " |-- characters: string (nullable = true)\n",
      "\n"
     ]
    }
   ],
   "source": [
    "display(Markdown(f\"The ratings DataFrame has **{ratings.count()} rows** and schema:\"))\n",
    "ratings.printSchema()\n",
    "\n",
    "display(Markdown(f\"The movie names DataFrame has **{info.count()} rows** and schema:\"))\n",
    "info.printSchema()\n",
    "\n",
    "display(Markdown(f\"The people info DataFrame has **{people.count()} rows** and schema:\"))\n",
    "people.printSchema()\n",
    "\n",
    "display(Markdown(f\"The movie workers DataFrame has **{collaborations.count()} rows** and schema:\"))\n",
    "collaborations.printSchema()"
   ]
  },
  {
   "cell_type": "markdown",
   "metadata": {},
   "source": [
    "Change `runtimeMinutes` from string to float"
   ]
  },
  {
   "cell_type": "code",
   "execution_count": 9,
   "metadata": {},
   "outputs": [],
   "source": [
    "info = info.withColumn(\"runtimeMinutes\", col(\"runtimeMinutes\").cast(FloatType()))"
   ]
  },
  {
   "cell_type": "markdown",
   "metadata": {},
   "source": [
    "Split `genres` column into an array with separate `element`s for each genre."
   ]
  },
  {
   "cell_type": "code",
   "execution_count": 10,
   "metadata": {},
   "outputs": [],
   "source": [
    "info=info.withColumn(\"genres\", split(col(\"genres\"),\",\"))"
   ]
  },
  {
   "cell_type": "code",
   "execution_count": 11,
   "metadata": {},
   "outputs": [
    {
     "data": {
      "text/markdown": [
       "Updated schema:"
      ],
      "text/plain": [
       "<IPython.core.display.Markdown object>"
      ]
     },
     "metadata": {},
     "output_type": "display_data"
    },
    {
     "name": "stdout",
     "output_type": "stream",
     "text": [
      "root\n",
      " |-- tconst: string (nullable = true)\n",
      " |-- titleType: string (nullable = true)\n",
      " |-- primaryTitle: string (nullable = true)\n",
      " |-- originalTitle: string (nullable = true)\n",
      " |-- isAdult: integer (nullable = true)\n",
      " |-- startYear: integer (nullable = true)\n",
      " |-- endYear: integer (nullable = true)\n",
      " |-- runtimeMinutes: float (nullable = true)\n",
      " |-- genres: array (nullable = true)\n",
      " |    |-- element: string (containsNull = true)\n",
      "\n"
     ]
    }
   ],
   "source": [
    "display(Markdown(\"Updated schema:\"))\n",
    "info.printSchema()"
   ]
  },
  {
   "cell_type": "markdown",
   "metadata": {},
   "source": [
    "Filter out small movies (movies with few ratings) since we want to focus our analysis on big Hollywood movies."
   ]
  },
  {
   "cell_type": "code",
   "execution_count": 12,
   "metadata": {},
   "outputs": [],
   "source": [
    "ratings_to_join = ratings.filter(col(\"numVotes\") > 50)"
   ]
  },
  {
   "cell_type": "code",
   "execution_count": 13,
   "metadata": {},
   "outputs": [],
   "source": [
    "movies_rated = (info\n",
    "                .join(ratings_to_join, \"tconst\", \"inner\")\n",
    "                .select(\"tconst\", \"primaryTitle\", \"isAdult\", \"startYear\", \"runtimeMinutes\", \"genres\", \"averageRating\", \"numVotes\")).where(col(\"runtimeMinutes\")>=65)"
   ]
  },
  {
   "cell_type": "code",
   "execution_count": 14,
   "metadata": {},
   "outputs": [
    {
     "name": "stdout",
     "output_type": "stream",
     "text": [
      "+------------------+------------------+\n",
      "|max(averageRating)|min(averageRating)|\n",
      "+------------------+------------------+\n",
      "|              10.0|               1.0|\n",
      "+------------------+------------------+\n",
      "\n"
     ]
    }
   ],
   "source": [
    "movies_rated.select(max(\"averageRating\"), min(\"averageRating\")).show()"
   ]
  },
  {
   "cell_type": "markdown",
   "metadata": {},
   "source": [
    "Bucket ratings for easier comparison across categories"
   ]
  },
  {
   "cell_type": "code",
   "execution_count": 15,
   "metadata": {},
   "outputs": [],
   "source": [
    "rating_buckets = [\n",
    "    \"1_dreadful\",\n",
    "    \"2_bad\",\n",
    "    \"3_acceptable\",\n",
    "    \"4_good\",\n",
    "    \"5_incredible\"\n",
    "]"
   ]
  },
  {
   "cell_type": "code",
   "execution_count": 16,
   "metadata": {},
   "outputs": [],
   "source": [
    "movies_rated = movies_rated.withColumn(\"ratingCategory\", \n",
    "                         when((col(\"averageRating\")<=2), rating_buckets[0])\n",
    "                        .when((col(\"averageRating\")>2) & (col(\"averageRating\")<=4), rating_buckets[1])\n",
    "                        .when((col(\"averageRating\")>4) & (col(\"averageRating\")<=6), rating_buckets[2])\n",
    "                        .when((col(\"averageRating\")>6) & (col(\"averageRating\")<=8), rating_buckets[3])               \n",
    "                        .otherwise(rating_buckets[4])\n",
    "                       )"
   ]
  },
  {
   "cell_type": "code",
   "execution_count": 17,
   "metadata": {},
   "outputs": [],
   "source": [
    "movies_rated = movies_rated.withColumn(\"decade\", concat((col(\"startYear\") - col(\"startYear\") % 10),lit(\"s\"))) # create a decade column"
   ]
  },
  {
   "cell_type": "code",
   "execution_count": 18,
   "metadata": {},
   "outputs": [
    {
     "data": {
      "text/markdown": [
       "The joined ratings and movies DataFrame has **148726 rows** and schema:"
      ],
      "text/plain": [
       "<IPython.core.display.Markdown object>"
      ]
     },
     "metadata": {},
     "output_type": "display_data"
    },
    {
     "name": "stdout",
     "output_type": "stream",
     "text": [
      "root\n",
      " |-- tconst: string (nullable = true)\n",
      " |-- primaryTitle: string (nullable = true)\n",
      " |-- isAdult: integer (nullable = true)\n",
      " |-- startYear: integer (nullable = true)\n",
      " |-- runtimeMinutes: float (nullable = true)\n",
      " |-- genres: array (nullable = true)\n",
      " |    |-- element: string (containsNull = true)\n",
      " |-- averageRating: double (nullable = true)\n",
      " |-- numVotes: integer (nullable = true)\n",
      " |-- ratingCategory: string (nullable = false)\n",
      " |-- decade: string (nullable = true)\n",
      "\n"
     ]
    }
   ],
   "source": [
    "display(Markdown(f\"The joined ratings and movies DataFrame has **{movies_rated.count()} rows** and schema:\"))\n",
    "movies_rated.printSchema()"
   ]
  },
  {
   "cell_type": "markdown",
   "metadata": {},
   "source": [
    "The following summaries have a few columns so we export them `toPandas` for a cleaner representation."
   ]
  },
  {
   "cell_type": "code",
   "execution_count": 19,
   "metadata": {},
   "outputs": [
    {
     "data": {
      "text/html": [
       "<div>\n",
       "<style scoped>\n",
       "    .dataframe tbody tr th:only-of-type {\n",
       "        vertical-align: middle;\n",
       "    }\n",
       "\n",
       "    .dataframe tbody tr th {\n",
       "        vertical-align: top;\n",
       "    }\n",
       "\n",
       "    .dataframe thead th {\n",
       "        text-align: right;\n",
       "    }\n",
       "</style>\n",
       "<table border=\"1\" class=\"dataframe\">\n",
       "  <thead>\n",
       "    <tr style=\"text-align: right;\">\n",
       "      <th></th>\n",
       "      <th>tconst</th>\n",
       "      <th>primaryTitle</th>\n",
       "      <th>isAdult</th>\n",
       "      <th>startYear</th>\n",
       "      <th>runtimeMinutes</th>\n",
       "      <th>genres</th>\n",
       "      <th>averageRating</th>\n",
       "      <th>numVotes</th>\n",
       "      <th>ratingCategory</th>\n",
       "      <th>decade</th>\n",
       "    </tr>\n",
       "  </thead>\n",
       "  <tbody>\n",
       "    <tr>\n",
       "      <th>0</th>\n",
       "      <td>tt0016361</td>\n",
       "      <td>Smouldering Fires</td>\n",
       "      <td>0</td>\n",
       "      <td>1925</td>\n",
       "      <td>80.0</td>\n",
       "      <td>[Drama]</td>\n",
       "      <td>7.1</td>\n",
       "      <td>84</td>\n",
       "      <td>4_good</td>\n",
       "      <td>1920s</td>\n",
       "    </tr>\n",
       "    <tr>\n",
       "      <th>1</th>\n",
       "      <td>tt0016395</td>\n",
       "      <td>Stella Dallas</td>\n",
       "      <td>0</td>\n",
       "      <td>1925</td>\n",
       "      <td>110.0</td>\n",
       "      <td>[Drama]</td>\n",
       "      <td>7.2</td>\n",
       "      <td>280</td>\n",
       "      <td>4_good</td>\n",
       "      <td>1920s</td>\n",
       "    </tr>\n",
       "    <tr>\n",
       "      <th>2</th>\n",
       "      <td>tt0018526</td>\n",
       "      <td>Underworld</td>\n",
       "      <td>0</td>\n",
       "      <td>1927</td>\n",
       "      <td>80.0</td>\n",
       "      <td>[Crime, Drama, Film-Noir]</td>\n",
       "      <td>7.6</td>\n",
       "      <td>2640</td>\n",
       "      <td>4_good</td>\n",
       "      <td>1920s</td>\n",
       "    </tr>\n",
       "    <tr>\n",
       "      <th>3</th>\n",
       "      <td>tt0019388</td>\n",
       "      <td>The Singing Fool</td>\n",
       "      <td>0</td>\n",
       "      <td>1927</td>\n",
       "      <td>105.0</td>\n",
       "      <td>[Drama, Musical]</td>\n",
       "      <td>6.2</td>\n",
       "      <td>209</td>\n",
       "      <td>4_good</td>\n",
       "      <td>1920s</td>\n",
       "    </tr>\n",
       "    <tr>\n",
       "      <th>4</th>\n",
       "      <td>tt0020007</td>\n",
       "      <td>Der Hund von Baskerville</td>\n",
       "      <td>0</td>\n",
       "      <td>1929</td>\n",
       "      <td>65.0</td>\n",
       "      <td>[Crime, Horror, Mystery]</td>\n",
       "      <td>6.8</td>\n",
       "      <td>86</td>\n",
       "      <td>4_good</td>\n",
       "      <td>1920s</td>\n",
       "    </tr>\n",
       "  </tbody>\n",
       "</table>\n",
       "</div>"
      ],
      "text/plain": [
       "      tconst              primaryTitle  isAdult  startYear  runtimeMinutes  \\\n",
       "0  tt0016361         Smouldering Fires        0       1925            80.0   \n",
       "1  tt0016395             Stella Dallas        0       1925           110.0   \n",
       "2  tt0018526                Underworld        0       1927            80.0   \n",
       "3  tt0019388          The Singing Fool        0       1927           105.0   \n",
       "4  tt0020007  Der Hund von Baskerville        0       1929            65.0   \n",
       "\n",
       "                      genres  averageRating  numVotes ratingCategory decade  \n",
       "0                    [Drama]            7.1        84         4_good  1920s  \n",
       "1                    [Drama]            7.2       280         4_good  1920s  \n",
       "2  [Crime, Drama, Film-Noir]            7.6      2640         4_good  1920s  \n",
       "3           [Drama, Musical]            6.2       209         4_good  1920s  \n",
       "4   [Crime, Horror, Mystery]            6.8        86         4_good  1920s  "
      ]
     },
     "execution_count": 19,
     "metadata": {},
     "output_type": "execute_result"
    }
   ],
   "source": [
    "movies_rated.limit(5).toPandas()"
   ]
  },
  {
   "cell_type": "code",
   "execution_count": 20,
   "metadata": {},
   "outputs": [
    {
     "data": {
      "text/html": [
       "<div>\n",
       "<style scoped>\n",
       "    .dataframe tbody tr th:only-of-type {\n",
       "        vertical-align: middle;\n",
       "    }\n",
       "\n",
       "    .dataframe tbody tr th {\n",
       "        vertical-align: top;\n",
       "    }\n",
       "\n",
       "    .dataframe thead th {\n",
       "        text-align: right;\n",
       "    }\n",
       "</style>\n",
       "<table border=\"1\" class=\"dataframe\">\n",
       "  <thead>\n",
       "    <tr style=\"text-align: right;\">\n",
       "      <th></th>\n",
       "      <th>summary</th>\n",
       "      <th>tconst</th>\n",
       "      <th>isAdult</th>\n",
       "      <th>startYear</th>\n",
       "      <th>runtimeMinutes</th>\n",
       "      <th>averageRating</th>\n",
       "      <th>numVotes</th>\n",
       "      <th>ratingCategory</th>\n",
       "    </tr>\n",
       "  </thead>\n",
       "  <tbody>\n",
       "    <tr>\n",
       "      <th>0</th>\n",
       "      <td>count</td>\n",
       "      <td>148726</td>\n",
       "      <td>148726</td>\n",
       "      <td>148719</td>\n",
       "      <td>148726</td>\n",
       "      <td>148726</td>\n",
       "      <td>148726</td>\n",
       "      <td>148726</td>\n",
       "    </tr>\n",
       "    <tr>\n",
       "      <th>1</th>\n",
       "      <td>mean</td>\n",
       "      <td>None</td>\n",
       "      <td>0.007443217729247072</td>\n",
       "      <td>1996.3062688694786</td>\n",
       "      <td>102.92710084316126</td>\n",
       "      <td>6.101064373411509</td>\n",
       "      <td>5969.3933340505355</td>\n",
       "      <td>None</td>\n",
       "    </tr>\n",
       "    <tr>\n",
       "      <th>2</th>\n",
       "      <td>stddev</td>\n",
       "      <td>None</td>\n",
       "      <td>0.08595269578915049</td>\n",
       "      <td>22.07101330539644</td>\n",
       "      <td>146.00207059065312</td>\n",
       "      <td>1.3046924930135317</td>\n",
       "      <td>42248.10138323535</td>\n",
       "      <td>None</td>\n",
       "    </tr>\n",
       "    <tr>\n",
       "      <th>3</th>\n",
       "      <td>min</td>\n",
       "      <td>tt0000574</td>\n",
       "      <td>0</td>\n",
       "      <td>1904</td>\n",
       "      <td>65.0</td>\n",
       "      <td>1.0</td>\n",
       "      <td>51</td>\n",
       "      <td>1_dreadful</td>\n",
       "    </tr>\n",
       "    <tr>\n",
       "      <th>4</th>\n",
       "      <td>25%</td>\n",
       "      <td>None</td>\n",
       "      <td>0</td>\n",
       "      <td>1985</td>\n",
       "      <td>87.0</td>\n",
       "      <td>5.4</td>\n",
       "      <td>109</td>\n",
       "      <td>None</td>\n",
       "    </tr>\n",
       "    <tr>\n",
       "      <th>5</th>\n",
       "      <td>50%</td>\n",
       "      <td>None</td>\n",
       "      <td>0</td>\n",
       "      <td>2004</td>\n",
       "      <td>94.0</td>\n",
       "      <td>6.3</td>\n",
       "      <td>270</td>\n",
       "      <td>None</td>\n",
       "    </tr>\n",
       "    <tr>\n",
       "      <th>6</th>\n",
       "      <td>75%</td>\n",
       "      <td>None</td>\n",
       "      <td>0</td>\n",
       "      <td>2013</td>\n",
       "      <td>107.0</td>\n",
       "      <td>7.0</td>\n",
       "      <td>985</td>\n",
       "      <td>None</td>\n",
       "    </tr>\n",
       "    <tr>\n",
       "      <th>7</th>\n",
       "      <td>max</td>\n",
       "      <td>tt9916362</td>\n",
       "      <td>1</td>\n",
       "      <td>2021</td>\n",
       "      <td>51420.0</td>\n",
       "      <td>10.0</td>\n",
       "      <td>2345756</td>\n",
       "      <td>5_incredible</td>\n",
       "    </tr>\n",
       "  </tbody>\n",
       "</table>\n",
       "</div>"
      ],
      "text/plain": [
       "  summary     tconst               isAdult           startYear  \\\n",
       "0   count     148726                148726              148719   \n",
       "1    mean       None  0.007443217729247072  1996.3062688694786   \n",
       "2  stddev       None   0.08595269578915049   22.07101330539644   \n",
       "3     min  tt0000574                     0                1904   \n",
       "4     25%       None                     0                1985   \n",
       "5     50%       None                     0                2004   \n",
       "6     75%       None                     0                2013   \n",
       "7     max  tt9916362                     1                2021   \n",
       "\n",
       "       runtimeMinutes       averageRating            numVotes ratingCategory  \n",
       "0              148726              148726              148726         148726  \n",
       "1  102.92710084316126   6.101064373411509  5969.3933340505355           None  \n",
       "2  146.00207059065312  1.3046924930135317   42248.10138323535           None  \n",
       "3                65.0                 1.0                  51     1_dreadful  \n",
       "4                87.0                 5.4                 109           None  \n",
       "5                94.0                 6.3                 270           None  \n",
       "6               107.0                 7.0                 985           None  \n",
       "7             51420.0                10.0             2345756   5_incredible  "
      ]
     },
     "execution_count": 20,
     "metadata": {},
     "output_type": "execute_result"
    }
   ],
   "source": [
    "movies_rated.drop(\"genres\", \"primaryTitle\", \"decade\").summary().toPandas()"
   ]
  },
  {
   "cell_type": "code",
   "execution_count": 21,
   "metadata": {},
   "outputs": [],
   "source": [
    "movies_cols = movies_rated.columns"
   ]
  },
  {
   "cell_type": "markdown",
   "metadata": {},
   "source": [
    "Number of null values"
   ]
  },
  {
   "cell_type": "code",
   "execution_count": 22,
   "metadata": {},
   "outputs": [
    {
     "name": "stdout",
     "output_type": "stream",
     "text": [
      "+------+------------+-------+---------+--------------+------+-------------+--------+--------------+------+\n",
      "|tconst|primaryTitle|isAdult|startYear|runtimeMinutes|genres|averageRating|numVotes|ratingCategory|decade|\n",
      "+------+------------+-------+---------+--------------+------+-------------+--------+--------------+------+\n",
      "|     0|           0|      0|        7|             0|   312|            0|       0|             0|     7|\n",
      "+------+------------+-------+---------+--------------+------+-------------+--------+--------------+------+\n",
      "\n"
     ]
    }
   ],
   "source": [
    "movies_rated.select([count(when(col(c).isNull(), c)).alias(c) for c in movies_cols]).show()"
   ]
  },
  {
   "cell_type": "code",
   "execution_count": 23,
   "metadata": {},
   "outputs": [
    {
     "data": {
      "text/markdown": [
       "This DataFrame has **148407 rows** after dropping NAs."
      ],
      "text/plain": [
       "<IPython.core.display.Markdown object>"
      ]
     },
     "metadata": {},
     "output_type": "display_data"
    }
   ],
   "source": [
    "movies_rated=movies_rated.dropna()\n",
    "display(Markdown(f\"This DataFrame has **{movies_rated.count()} rows** after dropping NAs.\"))"
   ]
  },
  {
   "cell_type": "markdown",
   "metadata": {},
   "source": [
    "Count distinct values"
   ]
  },
  {
   "cell_type": "code",
   "execution_count": 24,
   "metadata": {
    "scrolled": true
   },
   "outputs": [
    {
     "name": "stdout",
     "output_type": "stream",
     "text": [
      "+------+------------+-------+---------+--------------+------+-------------+--------+--------------+------+\n",
      "|tconst|primaryTitle|isAdult|startYear|runtimeMinutes|genres|averageRating|numVotes|ratingCategory|decade|\n",
      "+------+------------+-------+---------+--------------+------+-------------+--------+--------------+------+\n",
      "|148407|      132161|      2|      114|           519|  1185|           91|   16466|             5|    13|\n",
      "+------+------------+-------+---------+--------------+------+-------------+--------+--------------+------+\n",
      "\n"
     ]
    }
   ],
   "source": [
    "movies_rated.select([countDistinct(c).alias(c) for c in movies_cols]).show()"
   ]
  },
  {
   "cell_type": "markdown",
   "metadata": {},
   "source": [
    "# Exploratory Data Analysis"
   ]
  },
  {
   "cell_type": "markdown",
   "metadata": {},
   "source": [
    "### Relationships between variables and rating"
   ]
  },
  {
   "cell_type": "code",
   "execution_count": 25,
   "metadata": {},
   "outputs": [
    {
     "data": {
      "text/plain": [
       "(44455, 10)"
      ]
     },
     "execution_count": 25,
     "metadata": {},
     "output_type": "execute_result"
    }
   ],
   "source": [
    "movies_rated_sample=movies_rated.sample(0.3).toPandas()\n",
    "movies_rated_sample.shape"
   ]
  },
  {
   "cell_type": "code",
   "execution_count": 26,
   "metadata": {},
   "outputs": [
    {
     "data": {
      "image/png": "[encoded data removed]",
      "text/plain": [
       "<Figure size 648x648 with 1 Axes>"
      ]
     },
     "metadata": {},
     "output_type": "display_data"
    }
   ],
   "source": [
    "plt.figure(figsize=(9,9))\n",
    "plt.hexbin(x=movies_rated_sample[\"runtimeMinutes\"],\n",
    "           y=movies_rated_sample[\"averageRating\"],\n",
    "           gridsize=30,\n",
    "          cmap=plt.cm.Greens,\n",
    "           extent=(65, 200, 0, 10)\n",
    "          )\n",
    "\n",
    "plt.xlabel(\"runtime\")\n",
    "plt.ylabel(\"rating\")\n",
    "plt.show()"
   ]
  },
  {
   "cell_type": "markdown",
   "metadata": {},
   "source": [
    "There does not seem to be a relationship between runtime and average rating."
   ]
  },
  {
   "cell_type": "code",
   "execution_count": 27,
   "metadata": {},
   "outputs": [
    {
     "name": "stdout",
     "output_type": "stream",
     "text": [
      "+-------+-----------------+------+\n",
      "|isAdult|    averageRating|Number|\n",
      "+-------+-----------------+------+\n",
      "|      1|6.159074410163338|  1102|\n",
      "|      0|6.099991174773432|147305|\n",
      "+-------+-----------------+------+\n",
      "\n"
     ]
    }
   ],
   "source": [
    "movies_rated\\\n",
    "    .groupBy(\"isAdult\")\\\n",
    "    .agg(mean(\"averageRating\").alias(\"averageRating\"),\n",
    "         count(lit(1)).alias(\"Number\"))\\\n",
    "    .show()"
   ]
  },
  {
   "cell_type": "code",
   "execution_count": 28,
   "metadata": {},
   "outputs": [
    {
     "name": "stdout",
     "output_type": "stream",
     "text": [
      "root\n",
      " |-- tconst: string (nullable = true)\n",
      " |-- primaryTitle: string (nullable = true)\n",
      " |-- isAdult: integer (nullable = true)\n",
      " |-- startYear: integer (nullable = true)\n",
      " |-- runtimeMinutes: float (nullable = true)\n",
      " |-- genres: array (nullable = true)\n",
      " |    |-- element: string (containsNull = true)\n",
      " |-- averageRating: double (nullable = true)\n",
      " |-- numVotes: integer (nullable = true)\n",
      " |-- ratingCategory: string (nullable = false)\n",
      " |-- decade: string (nullable = true)\n",
      "\n"
     ]
    }
   ],
   "source": [
    "movies_rated.printSchema()"
   ]
  },
  {
   "cell_type": "code",
   "execution_count": 29,
   "metadata": {},
   "outputs": [
    {
     "name": "stdout",
     "output_type": "stream",
     "text": [
      "+--------------------+---------+-------------+--------+--------------------+\n",
      "|        primaryTitle|startYear|averageRating|numVotes|              Genres|\n",
      "+--------------------+---------+-------------+--------+--------------------+\n",
      "|      Days of Géants|     2019|         10.0|     157|[Documentary, Sport]|\n",
      "| The Winds of Winter|     2016|          9.9|  133550|[Action, Adventur...|\n",
      "|     Vichnaya Pamyat|     2019|          9.9|   53387|[Drama, History, ...|\n",
      "|  Everyone's Waiting|     2005|          9.9|    7830|     [Comedy, Drama]|\n",
      "|       Sozin's Comet|     2008|          9.9|    7244|[Action, Adventur...|\n",
      "|Shoko Takasaki Mu...|     2016|          9.9|     196|             [Adult]|\n",
      "|   Days of Géants II|     2020|          9.9|     162|       [Documentary]|\n",
      "|Jack the Detectiv...|     2020|          9.9|      98|[Adventure, Crime...|\n",
      "|    Keep This Secret|     1995|          9.9|      95|             [Crime]|\n",
      "|     American Forces|     1994|          9.9|      93|            [Action]|\n",
      "|Ostatni Ludzie Cz...|     2020|          9.9|      89|       [Documentary]|\n",
      "|            Collapse|     1985|          9.9|      66|     [Comedy, Drama]|\n",
      "|       Sozin's Comet|     2008|          9.8|    4435|[Action, Adventur...|\n",
      "|This Is Not for T...|     2019|          9.8|    3600|             [Drama]|\n",
      "|               START|     2018|          9.8|    3274|[Crime, Drama, My...|\n",
      "|           Fancyland|     2015|          9.8|      97|            [Comedy]|\n",
      "|       Life: Amidral|     2018|          9.8|      80|             [Drama]|\n",
      "|           Tristesse|     2021|          9.8|      52|            [Comedy]|\n",
      "|        The Children|     2014|          9.7|   39868|[Action, Adventur...|\n",
      "|The Reichenbach Fall|     2012|          9.7|   34634|[Crime, Drama, My...|\n",
      "+--------------------+---------+-------------+--------+--------------------+\n",
      "only showing top 20 rows\n",
      "\n"
     ]
    }
   ],
   "source": [
    "movies_rated.select(\"primaryTitle\", \"startYear\", \"averageRating\", \"numVotes\", \"Genres\")\\\n",
    "    .orderBy(col(\"averageRating\"), col(\"numVotes\"), ascending=False).show()"
   ]
  },
  {
   "cell_type": "code",
   "execution_count": 30,
   "metadata": {},
   "outputs": [],
   "source": [
    "ratings_per_decade = (\n",
    "    movies_rated\n",
    "    .groupBy(\"decade\")\n",
    "    .pivot(\"ratingCategory\")\n",
    "    .agg(sum(lit(1)))\n",
    ")"
   ]
  },
  {
   "cell_type": "code",
   "execution_count": 31,
   "metadata": {},
   "outputs": [],
   "source": [
    "total_per_decade = movies_rated.groupBy(\"decade\")\\\n",
    "                                .agg(sum(lit(1)).alias(\"Total\"),\n",
    "                                    mean(col(\"averageRating\")).alias(\"averageRating\"))\\\n",
    "                                .select(col(\"decade\"), col(\"Total\"), col(\"averageRating\"))\\\n",
    "                                .where(col(\"Total\")>1000)"
   ]
  },
  {
   "cell_type": "code",
   "execution_count": 32,
   "metadata": {},
   "outputs": [
    {
     "data": {
      "text/html": [
       "<div>\n",
       "<style scoped>\n",
       "    .dataframe tbody tr th:only-of-type {\n",
       "        vertical-align: middle;\n",
       "    }\n",
       "\n",
       "    .dataframe tbody tr th {\n",
       "        vertical-align: top;\n",
       "    }\n",
       "\n",
       "    .dataframe thead th {\n",
       "        text-align: right;\n",
       "    }\n",
       "</style>\n",
       "<table border=\"1\" class=\"dataframe\">\n",
       "  <thead>\n",
       "    <tr style=\"text-align: right;\">\n",
       "      <th></th>\n",
       "      <th>decade</th>\n",
       "      <th>Total</th>\n",
       "      <th>averageRating</th>\n",
       "    </tr>\n",
       "  </thead>\n",
       "  <tbody>\n",
       "    <tr>\n",
       "      <th>0</th>\n",
       "      <td>1970s</td>\n",
       "      <td>10598</td>\n",
       "      <td>6.264833</td>\n",
       "    </tr>\n",
       "    <tr>\n",
       "      <th>1</th>\n",
       "      <td>2000s</td>\n",
       "      <td>33106</td>\n",
       "      <td>5.992551</td>\n",
       "    </tr>\n",
       "    <tr>\n",
       "      <th>2</th>\n",
       "      <td>1980s</td>\n",
       "      <td>12818</td>\n",
       "      <td>6.205960</td>\n",
       "    </tr>\n",
       "    <tr>\n",
       "      <th>3</th>\n",
       "      <td>1960s</td>\n",
       "      <td>7252</td>\n",
       "      <td>6.342954</td>\n",
       "    </tr>\n",
       "    <tr>\n",
       "      <th>4</th>\n",
       "      <td>1930s</td>\n",
       "      <td>3189</td>\n",
       "      <td>6.414644</td>\n",
       "    </tr>\n",
       "    <tr>\n",
       "      <th>5</th>\n",
       "      <td>2010s</td>\n",
       "      <td>50198</td>\n",
       "      <td>6.003197</td>\n",
       "    </tr>\n",
       "    <tr>\n",
       "      <th>6</th>\n",
       "      <td>2020s</td>\n",
       "      <td>3366</td>\n",
       "      <td>6.024242</td>\n",
       "    </tr>\n",
       "    <tr>\n",
       "      <th>7</th>\n",
       "      <td>1990s</td>\n",
       "      <td>18028</td>\n",
       "      <td>6.065010</td>\n",
       "    </tr>\n",
       "    <tr>\n",
       "      <th>8</th>\n",
       "      <td>1950s</td>\n",
       "      <td>5389</td>\n",
       "      <td>6.395973</td>\n",
       "    </tr>\n",
       "    <tr>\n",
       "      <th>9</th>\n",
       "      <td>1940s</td>\n",
       "      <td>3501</td>\n",
       "      <td>6.512882</td>\n",
       "    </tr>\n",
       "  </tbody>\n",
       "</table>\n",
       "</div>"
      ],
      "text/plain": [
       "  decade  Total  averageRating\n",
       "0  1970s  10598       6.264833\n",
       "1  2000s  33106       5.992551\n",
       "2  1980s  12818       6.205960\n",
       "3  1960s   7252       6.342954\n",
       "4  1930s   3189       6.414644\n",
       "5  2010s  50198       6.003197\n",
       "6  2020s   3366       6.024242\n",
       "7  1990s  18028       6.065010\n",
       "8  1950s   5389       6.395973\n",
       "9  1940s   3501       6.512882"
      ]
     },
     "execution_count": 32,
     "metadata": {},
     "output_type": "execute_result"
    }
   ],
   "source": [
    "total_per_decade.toPandas()"
   ]
  },
  {
   "cell_type": "code",
   "execution_count": 33,
   "metadata": {},
   "outputs": [],
   "source": [
    "ratings_per_decade = ratings_per_decade.join(total_per_decade, \"decade\", how=\"inner\")"
   ]
  },
  {
   "cell_type": "code",
   "execution_count": 34,
   "metadata": {},
   "outputs": [],
   "source": [
    "ratings_per_decade = ratings_per_decade\\\n",
    ".select(*[col(\"decade\").alias(\"decade\"),\n",
    "          *[round(100 * col(c)/col(\"Total\"), 2).alias(c) for c in rating_buckets],\n",
    "          col(\"averageRating\"), \n",
    "          col(\"Total\").alias(\"numberOfMovies\")]).orderBy(\"decade\")\n",
    "df_ratings_per_decade = ratings_per_decade.toPandas()"
   ]
  },
  {
   "cell_type": "code",
   "execution_count": 35,
   "metadata": {},
   "outputs": [
    {
     "data": {
      "text/html": [
       "<div>\n",
       "<style scoped>\n",
       "    .dataframe tbody tr th:only-of-type {\n",
       "        vertical-align: middle;\n",
       "    }\n",
       "\n",
       "    .dataframe tbody tr th {\n",
       "        vertical-align: top;\n",
       "    }\n",
       "\n",
       "    .dataframe thead th {\n",
       "        text-align: right;\n",
       "    }\n",
       "</style>\n",
       "<table border=\"1\" class=\"dataframe\">\n",
       "  <thead>\n",
       "    <tr style=\"text-align: right;\">\n",
       "      <th></th>\n",
       "      <th>decade</th>\n",
       "      <th>1_dreadful</th>\n",
       "      <th>2_bad</th>\n",
       "      <th>3_acceptable</th>\n",
       "      <th>4_good</th>\n",
       "      <th>5_incredible</th>\n",
       "      <th>averageRating</th>\n",
       "      <th>numberOfMovies</th>\n",
       "    </tr>\n",
       "  </thead>\n",
       "  <tbody>\n",
       "    <tr>\n",
       "      <th>0</th>\n",
       "      <td>1930s</td>\n",
       "      <td>0.03</td>\n",
       "      <td>0.16</td>\n",
       "      <td>26.75</td>\n",
       "      <td>72.72</td>\n",
       "      <td>0.34</td>\n",
       "      <td>6.414644</td>\n",
       "      <td>3189</td>\n",
       "    </tr>\n",
       "    <tr>\n",
       "      <th>1</th>\n",
       "      <td>1940s</td>\n",
       "      <td>NaN</td>\n",
       "      <td>0.43</td>\n",
       "      <td>20.34</td>\n",
       "      <td>78.61</td>\n",
       "      <td>0.63</td>\n",
       "      <td>6.512882</td>\n",
       "      <td>3501</td>\n",
       "    </tr>\n",
       "    <tr>\n",
       "      <th>2</th>\n",
       "      <td>1950s</td>\n",
       "      <td>0.04</td>\n",
       "      <td>1.43</td>\n",
       "      <td>29.71</td>\n",
       "      <td>67.06</td>\n",
       "      <td>1.76</td>\n",
       "      <td>6.395973</td>\n",
       "      <td>5389</td>\n",
       "    </tr>\n",
       "    <tr>\n",
       "      <th>3</th>\n",
       "      <td>1960s</td>\n",
       "      <td>0.21</td>\n",
       "      <td>2.76</td>\n",
       "      <td>32.32</td>\n",
       "      <td>61.89</td>\n",
       "      <td>2.83</td>\n",
       "      <td>6.342954</td>\n",
       "      <td>7252</td>\n",
       "    </tr>\n",
       "    <tr>\n",
       "      <th>4</th>\n",
       "      <td>1970s</td>\n",
       "      <td>0.08</td>\n",
       "      <td>4.06</td>\n",
       "      <td>33.80</td>\n",
       "      <td>57.94</td>\n",
       "      <td>4.11</td>\n",
       "      <td>6.264833</td>\n",
       "      <td>10598</td>\n",
       "    </tr>\n",
       "    <tr>\n",
       "      <th>5</th>\n",
       "      <td>1980s</td>\n",
       "      <td>0.16</td>\n",
       "      <td>5.33</td>\n",
       "      <td>34.45</td>\n",
       "      <td>55.47</td>\n",
       "      <td>4.60</td>\n",
       "      <td>6.205960</td>\n",
       "      <td>12818</td>\n",
       "    </tr>\n",
       "    <tr>\n",
       "      <th>6</th>\n",
       "      <td>1990s</td>\n",
       "      <td>0.36</td>\n",
       "      <td>6.63</td>\n",
       "      <td>38.35</td>\n",
       "      <td>50.21</td>\n",
       "      <td>4.45</td>\n",
       "      <td>6.065010</td>\n",
       "      <td>18028</td>\n",
       "    </tr>\n",
       "    <tr>\n",
       "      <th>7</th>\n",
       "      <td>2000s</td>\n",
       "      <td>0.73</td>\n",
       "      <td>9.89</td>\n",
       "      <td>34.50</td>\n",
       "      <td>50.45</td>\n",
       "      <td>4.44</td>\n",
       "      <td>5.992551</td>\n",
       "      <td>33106</td>\n",
       "    </tr>\n",
       "    <tr>\n",
       "      <th>8</th>\n",
       "      <td>2010s</td>\n",
       "      <td>0.61</td>\n",
       "      <td>9.00</td>\n",
       "      <td>36.80</td>\n",
       "      <td>48.41</td>\n",
       "      <td>5.19</td>\n",
       "      <td>6.003197</td>\n",
       "      <td>50198</td>\n",
       "    </tr>\n",
       "    <tr>\n",
       "      <th>9</th>\n",
       "      <td>2020s</td>\n",
       "      <td>0.77</td>\n",
       "      <td>10.90</td>\n",
       "      <td>34.52</td>\n",
       "      <td>45.45</td>\n",
       "      <td>8.35</td>\n",
       "      <td>6.024242</td>\n",
       "      <td>3366</td>\n",
       "    </tr>\n",
       "  </tbody>\n",
       "</table>\n",
       "</div>"
      ],
      "text/plain": [
       "  decade  1_dreadful  2_bad  3_acceptable  4_good  5_incredible  \\\n",
       "0  1930s        0.03   0.16         26.75   72.72          0.34   \n",
       "1  1940s         NaN   0.43         20.34   78.61          0.63   \n",
       "2  1950s        0.04   1.43         29.71   67.06          1.76   \n",
       "3  1960s        0.21   2.76         32.32   61.89          2.83   \n",
       "4  1970s        0.08   4.06         33.80   57.94          4.11   \n",
       "5  1980s        0.16   5.33         34.45   55.47          4.60   \n",
       "6  1990s        0.36   6.63         38.35   50.21          4.45   \n",
       "7  2000s        0.73   9.89         34.50   50.45          4.44   \n",
       "8  2010s        0.61   9.00         36.80   48.41          5.19   \n",
       "9  2020s        0.77  10.90         34.52   45.45          8.35   \n",
       "\n",
       "   averageRating  numberOfMovies  \n",
       "0       6.414644            3189  \n",
       "1       6.512882            3501  \n",
       "2       6.395973            5389  \n",
       "3       6.342954            7252  \n",
       "4       6.264833           10598  \n",
       "5       6.205960           12818  \n",
       "6       6.065010           18028  \n",
       "7       5.992551           33106  \n",
       "8       6.003197           50198  \n",
       "9       6.024242            3366  "
      ]
     },
     "execution_count": 35,
     "metadata": {},
     "output_type": "execute_result"
    }
   ],
   "source": [
    "df_ratings_per_decade"
   ]
  },
  {
   "cell_type": "code",
   "execution_count": 36,
   "metadata": {},
   "outputs": [
    {
     "data": {
      "text/plain": [
       "<AxesSubplot:xlabel='decade'>"
      ]
     },
     "execution_count": 36,
     "metadata": {},
     "output_type": "execute_result"
    },
    {
     "data": {
      "image/png": "[encoded data removed]",
      "text/plain": [
       "<Figure size 432x288 with 1 Axes>"
      ]
     },
     "metadata": {},
     "output_type": "display_data"
    }
   ],
   "source": [
    "df_ratings_per_decade.plot(y=\"averageRating\", x=\"decade\")"
   ]
  },
  {
   "cell_type": "markdown",
   "metadata": {},
   "source": [
    "# Exploration of genres"
   ]
  },
  {
   "cell_type": "markdown",
   "metadata": {},
   "source": [
    "`explode` genres column to have a separate row for each movie per genre in the `genres` column array."
   ]
  },
  {
   "cell_type": "code",
   "execution_count": 37,
   "metadata": {},
   "outputs": [],
   "source": [
    "movies_rated_genres=movies_rated.withColumn(\"genre\", explode(\"genres\")).drop(\"genres\")"
   ]
  },
  {
   "cell_type": "code",
   "execution_count": 38,
   "metadata": {},
   "outputs": [
    {
     "name": "stdout",
     "output_type": "stream",
     "text": [
      "root\n",
      " |-- tconst: string (nullable = true)\n",
      " |-- primaryTitle: string (nullable = true)\n",
      " |-- isAdult: integer (nullable = true)\n",
      " |-- startYear: integer (nullable = true)\n",
      " |-- runtimeMinutes: float (nullable = true)\n",
      " |-- averageRating: double (nullable = true)\n",
      " |-- numVotes: integer (nullable = true)\n",
      " |-- ratingCategory: string (nullable = false)\n",
      " |-- decade: string (nullable = true)\n",
      " |-- genre: string (nullable = true)\n",
      "\n"
     ]
    }
   ],
   "source": [
    "movies_rated_genres.printSchema()"
   ]
  },
  {
   "cell_type": "code",
   "execution_count": 39,
   "metadata": {},
   "outputs": [
    {
     "name": "stdout",
     "output_type": "stream",
     "text": [
      "+----------------+\n",
      "|Number of Genres|\n",
      "+----------------+\n",
      "|              28|\n",
      "+----------------+\n",
      "\n"
     ]
    }
   ],
   "source": [
    "movies_rated_genres.select(countDistinct(\"genre\").alias(\"Number of Genres\")).show()"
   ]
  },
  {
   "cell_type": "code",
   "execution_count": 40,
   "metadata": {},
   "outputs": [
    {
     "name": "stdout",
     "output_type": "stream",
     "text": [
      "+-----------+\n",
      "|      genre|\n",
      "+-----------+\n",
      "|      Crime|\n",
      "|    Romance|\n",
      "|   Thriller|\n",
      "|  Adventure|\n",
      "|      Drama|\n",
      "|        War|\n",
      "|Documentary|\n",
      "| Reality-TV|\n",
      "|     Family|\n",
      "|    Fantasy|\n",
      "|  Game-Show|\n",
      "|      Adult|\n",
      "|    History|\n",
      "|    Mystery|\n",
      "|    Musical|\n",
      "|  Animation|\n",
      "|      Music|\n",
      "|  Film-Noir|\n",
      "|     Horror|\n",
      "|      Short|\n",
      "|    Western|\n",
      "|  Biography|\n",
      "|     Comedy|\n",
      "|     Action|\n",
      "|      Sport|\n",
      "|  Talk-Show|\n",
      "|     Sci-Fi|\n",
      "|       News|\n",
      "+-----------+\n",
      "\n"
     ]
    }
   ],
   "source": [
    "movies_rated_genres.select(col(\"genre\")).distinct().show(28)"
   ]
  },
  {
   "cell_type": "code",
   "execution_count": 41,
   "metadata": {},
   "outputs": [],
   "source": [
    "genre_rating = (movies_rated_genres.groupBy(\"genre\").agg(\n",
    "                                                        mean(col(\"averageRating\")).alias(\"averageRating\"),\n",
    "                                                        sum(col(\"numVotes\")).alias(\"numVotes\"),\n",
    "                                                        count(lit(1)).alias(\"numberOfMovies\")\n",
    "                                                    ))\n",
    "df_genre_rating = genre_rating.toPandas() # genre_rating is an aggregation so we can load it in memory without trouble"
   ]
  },
  {
   "cell_type": "code",
   "execution_count": 42,
   "metadata": {},
   "outputs": [],
   "source": [
    "df_genre_rating[\"votesPerMovie\"] = df_genre_rating[\"numVotes\"] / df_genre_rating[\"numberOfMovies\"]\n",
    "df_genre_rankings = df_genre_rating.drop(columns=[\"numVotes\", \"numberOfMovies\"])"
   ]
  },
  {
   "cell_type": "code",
   "execution_count": 43,
   "metadata": {},
   "outputs": [
    {
     "data": {
      "text/markdown": [
       "10 highest-rated genres:"
      ],
      "text/plain": [
       "<IPython.core.display.Markdown object>"
      ]
     },
     "metadata": {},
     "output_type": "display_data"
    },
    {
     "data": {
      "text/html": [
       "<div>\n",
       "<style scoped>\n",
       "    .dataframe tbody tr th:only-of-type {\n",
       "        vertical-align: middle;\n",
       "    }\n",
       "\n",
       "    .dataframe tbody tr th {\n",
       "        vertical-align: top;\n",
       "    }\n",
       "\n",
       "    .dataframe thead th {\n",
       "        text-align: right;\n",
       "    }\n",
       "</style>\n",
       "<table border=\"1\" class=\"dataframe\">\n",
       "  <thead>\n",
       "    <tr style=\"text-align: right;\">\n",
       "      <th></th>\n",
       "      <th>genre</th>\n",
       "      <th>averageRating</th>\n",
       "      <th>votesPerMovie</th>\n",
       "    </tr>\n",
       "  </thead>\n",
       "  <tbody>\n",
       "    <tr>\n",
       "      <th>6</th>\n",
       "      <td>Documentary</td>\n",
       "      <td>7.210338</td>\n",
       "      <td>955.732877</td>\n",
       "    </tr>\n",
       "    <tr>\n",
       "      <th>10</th>\n",
       "      <td>Game-Show</td>\n",
       "      <td>7.165882</td>\n",
       "      <td>288.876471</td>\n",
       "    </tr>\n",
       "    <tr>\n",
       "      <th>19</th>\n",
       "      <td>Short</td>\n",
       "      <td>7.050000</td>\n",
       "      <td>428.500000</td>\n",
       "    </tr>\n",
       "    <tr>\n",
       "      <th>16</th>\n",
       "      <td>Music</td>\n",
       "      <td>6.925922</td>\n",
       "      <td>3759.649180</td>\n",
       "    </tr>\n",
       "    <tr>\n",
       "      <th>12</th>\n",
       "      <td>History</td>\n",
       "      <td>6.900699</td>\n",
       "      <td>5790.743011</td>\n",
       "    </tr>\n",
       "    <tr>\n",
       "      <th>21</th>\n",
       "      <td>Biography</td>\n",
       "      <td>6.884332</td>\n",
       "      <td>10519.752833</td>\n",
       "    </tr>\n",
       "    <tr>\n",
       "      <th>27</th>\n",
       "      <td>News</td>\n",
       "      <td>6.877492</td>\n",
       "      <td>1258.048232</td>\n",
       "    </tr>\n",
       "    <tr>\n",
       "      <th>7</th>\n",
       "      <td>Reality-TV</td>\n",
       "      <td>6.819912</td>\n",
       "      <td>391.800885</td>\n",
       "    </tr>\n",
       "    <tr>\n",
       "      <th>17</th>\n",
       "      <td>Film-Noir</td>\n",
       "      <td>6.651809</td>\n",
       "      <td>4374.232996</td>\n",
       "    </tr>\n",
       "    <tr>\n",
       "      <th>24</th>\n",
       "      <td>Sport</td>\n",
       "      <td>6.585175</td>\n",
       "      <td>6071.631907</td>\n",
       "    </tr>\n",
       "  </tbody>\n",
       "</table>\n",
       "</div>"
      ],
      "text/plain": [
       "          genre  averageRating  votesPerMovie\n",
       "6   Documentary       7.210338     955.732877\n",
       "10    Game-Show       7.165882     288.876471\n",
       "19        Short       7.050000     428.500000\n",
       "16        Music       6.925922    3759.649180\n",
       "12      History       6.900699    5790.743011\n",
       "21    Biography       6.884332   10519.752833\n",
       "27         News       6.877492    1258.048232\n",
       "7    Reality-TV       6.819912     391.800885\n",
       "17    Film-Noir       6.651809    4374.232996\n",
       "24        Sport       6.585175    6071.631907"
      ]
     },
     "metadata": {},
     "output_type": "display_data"
    },
    {
     "data": {
      "text/markdown": [
       "10 genres with the most votes per movie:"
      ],
      "text/plain": [
       "<IPython.core.display.Markdown object>"
      ]
     },
     "metadata": {},
     "output_type": "display_data"
    },
    {
     "data": {
      "text/html": [
       "<div>\n",
       "<style scoped>\n",
       "    .dataframe tbody tr th:only-of-type {\n",
       "        vertical-align: middle;\n",
       "    }\n",
       "\n",
       "    .dataframe tbody tr th {\n",
       "        vertical-align: top;\n",
       "    }\n",
       "\n",
       "    .dataframe thead th {\n",
       "        text-align: right;\n",
       "    }\n",
       "</style>\n",
       "<table border=\"1\" class=\"dataframe\">\n",
       "  <thead>\n",
       "    <tr style=\"text-align: right;\">\n",
       "      <th></th>\n",
       "      <th>genre</th>\n",
       "      <th>averageRating</th>\n",
       "      <th>votesPerMovie</th>\n",
       "    </tr>\n",
       "  </thead>\n",
       "  <tbody>\n",
       "    <tr>\n",
       "      <th>26</th>\n",
       "      <td>Sci-Fi</td>\n",
       "      <td>5.202468</td>\n",
       "      <td>20756.799592</td>\n",
       "    </tr>\n",
       "    <tr>\n",
       "      <th>3</th>\n",
       "      <td>Adventure</td>\n",
       "      <td>5.931883</td>\n",
       "      <td>20495.443938</td>\n",
       "    </tr>\n",
       "    <tr>\n",
       "      <th>15</th>\n",
       "      <td>Animation</td>\n",
       "      <td>6.369500</td>\n",
       "      <td>15400.281952</td>\n",
       "    </tr>\n",
       "    <tr>\n",
       "      <th>23</th>\n",
       "      <td>Action</td>\n",
       "      <td>5.646242</td>\n",
       "      <td>15256.962311</td>\n",
       "    </tr>\n",
       "    <tr>\n",
       "      <th>9</th>\n",
       "      <td>Fantasy</td>\n",
       "      <td>5.848915</td>\n",
       "      <td>14287.262712</td>\n",
       "    </tr>\n",
       "    <tr>\n",
       "      <th>21</th>\n",
       "      <td>Biography</td>\n",
       "      <td>6.884332</td>\n",
       "      <td>10519.752833</td>\n",
       "    </tr>\n",
       "    <tr>\n",
       "      <th>13</th>\n",
       "      <td>Mystery</td>\n",
       "      <td>6.159952</td>\n",
       "      <td>9037.199046</td>\n",
       "    </tr>\n",
       "    <tr>\n",
       "      <th>0</th>\n",
       "      <td>Crime</td>\n",
       "      <td>6.235520</td>\n",
       "      <td>8865.126726</td>\n",
       "    </tr>\n",
       "    <tr>\n",
       "      <th>2</th>\n",
       "      <td>Thriller</td>\n",
       "      <td>5.474914</td>\n",
       "      <td>8714.986390</td>\n",
       "    </tr>\n",
       "    <tr>\n",
       "      <th>8</th>\n",
       "      <td>Family</td>\n",
       "      <td>6.043857</td>\n",
       "      <td>6365.188533</td>\n",
       "    </tr>\n",
       "  </tbody>\n",
       "</table>\n",
       "</div>"
      ],
      "text/plain": [
       "        genre  averageRating  votesPerMovie\n",
       "26     Sci-Fi       5.202468   20756.799592\n",
       "3   Adventure       5.931883   20495.443938\n",
       "15  Animation       6.369500   15400.281952\n",
       "23     Action       5.646242   15256.962311\n",
       "9     Fantasy       5.848915   14287.262712\n",
       "21  Biography       6.884332   10519.752833\n",
       "13    Mystery       6.159952    9037.199046\n",
       "0       Crime       6.235520    8865.126726\n",
       "2    Thriller       5.474914    8714.986390\n",
       "8      Family       6.043857    6365.188533"
      ]
     },
     "metadata": {},
     "output_type": "display_data"
    }
   ],
   "source": [
    "show=10\n",
    "display(Markdown(f\"{show} highest-rated genres:\"))\n",
    "display(df_genre_rankings.sort_values(\"averageRating\", axis=0, ascending=False).head(show))\n",
    "display(Markdown(f\"{show} genres with the most votes per movie:\"))\n",
    "display(df_genre_rankings.sort_values(\"votesPerMovie\", axis=0, ascending=False).head(show))"
   ]
  },
  {
   "cell_type": "code",
   "execution_count": 44,
   "metadata": {},
   "outputs": [],
   "source": [
    "genre_rating_categories=movies_rated_genres.groupBy(\"genre\")\\\n",
    "    .pivot(\"ratingCategory\")\\\n",
    "    .agg(count(lit(1))).join(genre_rating, \"genre\")"
   ]
  },
  {
   "cell_type": "code",
   "execution_count": 45,
   "metadata": {},
   "outputs": [],
   "source": [
    "ratings_per_genre = (\n",
    "    genre_rating_categories\n",
    "    .select(*[col(\"genre\").alias(\"genre\"), \n",
    "              *[round(100 * col(c)/col(\"numberOfMovies\"), 2).alias(c) for c in rating_buckets],\n",
    "              col(\"averageRating\"), \n",
    "              col(\"numberOfMovies\").alias(\"numberOfMovies\")\n",
    "             ]))\n",
    "df_ratings_per_genre = ratings_per_genre.toPandas()\n"
   ]
  },
  {
   "cell_type": "markdown",
   "metadata": {},
   "source": [
    "More detailed look at distribution of ratings per genre"
   ]
  },
  {
   "cell_type": "code",
   "execution_count": 46,
   "metadata": {},
   "outputs": [
    {
     "data": {
      "text/html": [
       "<div>\n",
       "<style scoped>\n",
       "    .dataframe tbody tr th:only-of-type {\n",
       "        vertical-align: middle;\n",
       "    }\n",
       "\n",
       "    .dataframe tbody tr th {\n",
       "        vertical-align: top;\n",
       "    }\n",
       "\n",
       "    .dataframe thead th {\n",
       "        text-align: right;\n",
       "    }\n",
       "</style>\n",
       "<table border=\"1\" class=\"dataframe\">\n",
       "  <thead>\n",
       "    <tr style=\"text-align: right;\">\n",
       "      <th></th>\n",
       "      <th>genre</th>\n",
       "      <th>1_dreadful</th>\n",
       "      <th>2_bad</th>\n",
       "      <th>3_acceptable</th>\n",
       "      <th>4_good</th>\n",
       "      <th>5_incredible</th>\n",
       "      <th>averageRating</th>\n",
       "      <th>numberOfMovies</th>\n",
       "    </tr>\n",
       "  </thead>\n",
       "  <tbody>\n",
       "    <tr>\n",
       "      <th>0</th>\n",
       "      <td>Documentary</td>\n",
       "      <td>0.14</td>\n",
       "      <td>0.95</td>\n",
       "      <td>7.31</td>\n",
       "      <td>76.07</td>\n",
       "      <td>15.53</td>\n",
       "      <td>7.210338</td>\n",
       "      <td>13301</td>\n",
       "    </tr>\n",
       "    <tr>\n",
       "      <th>1</th>\n",
       "      <td>Game-Show</td>\n",
       "      <td>0.59</td>\n",
       "      <td>4.12</td>\n",
       "      <td>14.71</td>\n",
       "      <td>54.71</td>\n",
       "      <td>25.88</td>\n",
       "      <td>7.165882</td>\n",
       "      <td>170</td>\n",
       "    </tr>\n",
       "    <tr>\n",
       "      <th>2</th>\n",
       "      <td>Short</td>\n",
       "      <td>0.00</td>\n",
       "      <td>0.00</td>\n",
       "      <td>0.00</td>\n",
       "      <td>75.00</td>\n",
       "      <td>25.00</td>\n",
       "      <td>7.050000</td>\n",
       "      <td>4</td>\n",
       "    </tr>\n",
       "    <tr>\n",
       "      <th>3</th>\n",
       "      <td>Music</td>\n",
       "      <td>0.23</td>\n",
       "      <td>2.01</td>\n",
       "      <td>18.75</td>\n",
       "      <td>60.08</td>\n",
       "      <td>18.93</td>\n",
       "      <td>6.925922</td>\n",
       "      <td>4880</td>\n",
       "    </tr>\n",
       "    <tr>\n",
       "      <th>4</th>\n",
       "      <td>History</td>\n",
       "      <td>0.08</td>\n",
       "      <td>1.22</td>\n",
       "      <td>15.30</td>\n",
       "      <td>72.34</td>\n",
       "      <td>11.06</td>\n",
       "      <td>6.900699</td>\n",
       "      <td>5008</td>\n",
       "    </tr>\n",
       "    <tr>\n",
       "      <th>5</th>\n",
       "      <td>Biography</td>\n",
       "      <td>0.11</td>\n",
       "      <td>1.03</td>\n",
       "      <td>14.03</td>\n",
       "      <td>77.17</td>\n",
       "      <td>7.66</td>\n",
       "      <td>6.884332</td>\n",
       "      <td>5559</td>\n",
       "    </tr>\n",
       "    <tr>\n",
       "      <th>6</th>\n",
       "      <td>News</td>\n",
       "      <td>0.00</td>\n",
       "      <td>3.86</td>\n",
       "      <td>16.40</td>\n",
       "      <td>65.92</td>\n",
       "      <td>13.83</td>\n",
       "      <td>6.877492</td>\n",
       "      <td>311</td>\n",
       "    </tr>\n",
       "    <tr>\n",
       "      <th>7</th>\n",
       "      <td>Reality-TV</td>\n",
       "      <td>1.77</td>\n",
       "      <td>8.85</td>\n",
       "      <td>16.37</td>\n",
       "      <td>44.69</td>\n",
       "      <td>28.32</td>\n",
       "      <td>6.819912</td>\n",
       "      <td>226</td>\n",
       "    </tr>\n",
       "    <tr>\n",
       "      <th>8</th>\n",
       "      <td>Film-Noir</td>\n",
       "      <td>0.00</td>\n",
       "      <td>0.29</td>\n",
       "      <td>14.76</td>\n",
       "      <td>84.23</td>\n",
       "      <td>0.72</td>\n",
       "      <td>6.651809</td>\n",
       "      <td>691</td>\n",
       "    </tr>\n",
       "    <tr>\n",
       "      <th>9</th>\n",
       "      <td>Sport</td>\n",
       "      <td>0.27</td>\n",
       "      <td>3.27</td>\n",
       "      <td>23.97</td>\n",
       "      <td>64.28</td>\n",
       "      <td>8.21</td>\n",
       "      <td>6.585175</td>\n",
       "      <td>2570</td>\n",
       "    </tr>\n",
       "    <tr>\n",
       "      <th>10</th>\n",
       "      <td>War</td>\n",
       "      <td>0.33</td>\n",
       "      <td>3.12</td>\n",
       "      <td>22.01</td>\n",
       "      <td>67.09</td>\n",
       "      <td>7.44</td>\n",
       "      <td>6.577626</td>\n",
       "      <td>3589</td>\n",
       "    </tr>\n",
       "    <tr>\n",
       "      <th>11</th>\n",
       "      <td>Talk-Show</td>\n",
       "      <td>4.21</td>\n",
       "      <td>11.05</td>\n",
       "      <td>18.42</td>\n",
       "      <td>36.84</td>\n",
       "      <td>29.47</td>\n",
       "      <td>6.564737</td>\n",
       "      <td>190</td>\n",
       "    </tr>\n",
       "    <tr>\n",
       "      <th>12</th>\n",
       "      <td>Musical</td>\n",
       "      <td>0.13</td>\n",
       "      <td>3.98</td>\n",
       "      <td>30.03</td>\n",
       "      <td>59.40</td>\n",
       "      <td>6.45</td>\n",
       "      <td>6.371716</td>\n",
       "      <td>3037</td>\n",
       "    </tr>\n",
       "    <tr>\n",
       "      <th>13</th>\n",
       "      <td>Animation</td>\n",
       "      <td>0.81</td>\n",
       "      <td>3.83</td>\n",
       "      <td>27.99</td>\n",
       "      <td>62.89</td>\n",
       "      <td>4.49</td>\n",
       "      <td>6.369500</td>\n",
       "      <td>3341</td>\n",
       "    </tr>\n",
       "    <tr>\n",
       "      <th>14</th>\n",
       "      <td>Drama</td>\n",
       "      <td>0.18</td>\n",
       "      <td>3.40</td>\n",
       "      <td>31.20</td>\n",
       "      <td>61.28</td>\n",
       "      <td>3.94</td>\n",
       "      <td>6.320293</td>\n",
       "      <td>74808</td>\n",
       "    </tr>\n",
       "    <tr>\n",
       "      <th>15</th>\n",
       "      <td>Crime</td>\n",
       "      <td>0.29</td>\n",
       "      <td>4.52</td>\n",
       "      <td>33.99</td>\n",
       "      <td>56.63</td>\n",
       "      <td>4.58</td>\n",
       "      <td>6.235520</td>\n",
       "      <td>18899</td>\n",
       "    </tr>\n",
       "    <tr>\n",
       "      <th>16</th>\n",
       "      <td>Adult</td>\n",
       "      <td>0.10</td>\n",
       "      <td>2.89</td>\n",
       "      <td>34.20</td>\n",
       "      <td>59.73</td>\n",
       "      <td>3.08</td>\n",
       "      <td>6.232659</td>\n",
       "      <td>1038</td>\n",
       "    </tr>\n",
       "    <tr>\n",
       "      <th>17</th>\n",
       "      <td>Romance</td>\n",
       "      <td>0.15</td>\n",
       "      <td>3.43</td>\n",
       "      <td>36.03</td>\n",
       "      <td>58.08</td>\n",
       "      <td>2.30</td>\n",
       "      <td>6.186794</td>\n",
       "      <td>19870</td>\n",
       "    </tr>\n",
       "    <tr>\n",
       "      <th>18</th>\n",
       "      <td>Mystery</td>\n",
       "      <td>0.22</td>\n",
       "      <td>5.88</td>\n",
       "      <td>37.04</td>\n",
       "      <td>51.38</td>\n",
       "      <td>5.48</td>\n",
       "      <td>6.159952</td>\n",
       "      <td>9646</td>\n",
       "    </tr>\n",
       "    <tr>\n",
       "      <th>19</th>\n",
       "      <td>Western</td>\n",
       "      <td>0.39</td>\n",
       "      <td>4.51</td>\n",
       "      <td>38.77</td>\n",
       "      <td>53.37</td>\n",
       "      <td>2.96</td>\n",
       "      <td>6.059639</td>\n",
       "      <td>2329</td>\n",
       "    </tr>\n",
       "    <tr>\n",
       "      <th>20</th>\n",
       "      <td>Family</td>\n",
       "      <td>0.62</td>\n",
       "      <td>6.22</td>\n",
       "      <td>38.84</td>\n",
       "      <td>50.83</td>\n",
       "      <td>3.49</td>\n",
       "      <td>6.043857</td>\n",
       "      <td>6959</td>\n",
       "    </tr>\n",
       "    <tr>\n",
       "      <th>21</th>\n",
       "      <td>Comedy</td>\n",
       "      <td>0.51</td>\n",
       "      <td>7.29</td>\n",
       "      <td>40.97</td>\n",
       "      <td>48.53</td>\n",
       "      <td>2.70</td>\n",
       "      <td>5.941180</td>\n",
       "      <td>43300</td>\n",
       "    </tr>\n",
       "    <tr>\n",
       "      <th>22</th>\n",
       "      <td>Adventure</td>\n",
       "      <td>0.72</td>\n",
       "      <td>9.86</td>\n",
       "      <td>37.27</td>\n",
       "      <td>47.94</td>\n",
       "      <td>4.20</td>\n",
       "      <td>5.931883</td>\n",
       "      <td>11630</td>\n",
       "    </tr>\n",
       "    <tr>\n",
       "      <th>23</th>\n",
       "      <td>Fantasy</td>\n",
       "      <td>0.66</td>\n",
       "      <td>11.02</td>\n",
       "      <td>38.25</td>\n",
       "      <td>46.47</td>\n",
       "      <td>3.59</td>\n",
       "      <td>5.848915</td>\n",
       "      <td>5900</td>\n",
       "    </tr>\n",
       "    <tr>\n",
       "      <th>24</th>\n",
       "      <td>Action</td>\n",
       "      <td>0.77</td>\n",
       "      <td>13.51</td>\n",
       "      <td>42.68</td>\n",
       "      <td>40.12</td>\n",
       "      <td>2.92</td>\n",
       "      <td>5.646242</td>\n",
       "      <td>18812</td>\n",
       "    </tr>\n",
       "    <tr>\n",
       "      <th>25</th>\n",
       "      <td>Thriller</td>\n",
       "      <td>0.48</td>\n",
       "      <td>13.08</td>\n",
       "      <td>52.21</td>\n",
       "      <td>32.65</td>\n",
       "      <td>1.58</td>\n",
       "      <td>5.474914</td>\n",
       "      <td>16826</td>\n",
       "    </tr>\n",
       "    <tr>\n",
       "      <th>26</th>\n",
       "      <td>Sci-Fi</td>\n",
       "      <td>1.24</td>\n",
       "      <td>22.92</td>\n",
       "      <td>44.72</td>\n",
       "      <td>28.91</td>\n",
       "      <td>2.21</td>\n",
       "      <td>5.202468</td>\n",
       "      <td>5389</td>\n",
       "    </tr>\n",
       "    <tr>\n",
       "      <th>27</th>\n",
       "      <td>Horror</td>\n",
       "      <td>1.59</td>\n",
       "      <td>28.97</td>\n",
       "      <td>50.88</td>\n",
       "      <td>17.97</td>\n",
       "      <td>0.59</td>\n",
       "      <td>4.785081</td>\n",
       "      <td>13560</td>\n",
       "    </tr>\n",
       "  </tbody>\n",
       "</table>\n",
       "</div>"
      ],
      "text/plain": [
       "          genre  1_dreadful  2_bad  3_acceptable  4_good  5_incredible  \\\n",
       "0   Documentary        0.14   0.95          7.31   76.07         15.53   \n",
       "1     Game-Show        0.59   4.12         14.71   54.71         25.88   \n",
       "2         Short        0.00   0.00          0.00   75.00         25.00   \n",
       "3         Music        0.23   2.01         18.75   60.08         18.93   \n",
       "4       History        0.08   1.22         15.30   72.34         11.06   \n",
       "5     Biography        0.11   1.03         14.03   77.17          7.66   \n",
       "6          News        0.00   3.86         16.40   65.92         13.83   \n",
       "7    Reality-TV        1.77   8.85         16.37   44.69         28.32   \n",
       "8     Film-Noir        0.00   0.29         14.76   84.23          0.72   \n",
       "9         Sport        0.27   3.27         23.97   64.28          8.21   \n",
       "10          War        0.33   3.12         22.01   67.09          7.44   \n",
       "11    Talk-Show        4.21  11.05         18.42   36.84         29.47   \n",
       "12      Musical        0.13   3.98         30.03   59.40          6.45   \n",
       "13    Animation        0.81   3.83         27.99   62.89          4.49   \n",
       "14        Drama        0.18   3.40         31.20   61.28          3.94   \n",
       "15        Crime        0.29   4.52         33.99   56.63          4.58   \n",
       "16        Adult        0.10   2.89         34.20   59.73          3.08   \n",
       "17      Romance        0.15   3.43         36.03   58.08          2.30   \n",
       "18      Mystery        0.22   5.88         37.04   51.38          5.48   \n",
       "19      Western        0.39   4.51         38.77   53.37          2.96   \n",
       "20       Family        0.62   6.22         38.84   50.83          3.49   \n",
       "21       Comedy        0.51   7.29         40.97   48.53          2.70   \n",
       "22    Adventure        0.72   9.86         37.27   47.94          4.20   \n",
       "23      Fantasy        0.66  11.02         38.25   46.47          3.59   \n",
       "24       Action        0.77  13.51         42.68   40.12          2.92   \n",
       "25     Thriller        0.48  13.08         52.21   32.65          1.58   \n",
       "26       Sci-Fi        1.24  22.92         44.72   28.91          2.21   \n",
       "27       Horror        1.59  28.97         50.88   17.97          0.59   \n",
       "\n",
       "    averageRating  numberOfMovies  \n",
       "0        7.210338           13301  \n",
       "1        7.165882             170  \n",
       "2        7.050000               4  \n",
       "3        6.925922            4880  \n",
       "4        6.900699            5008  \n",
       "5        6.884332            5559  \n",
       "6        6.877492             311  \n",
       "7        6.819912             226  \n",
       "8        6.651809             691  \n",
       "9        6.585175            2570  \n",
       "10       6.577626            3589  \n",
       "11       6.564737             190  \n",
       "12       6.371716            3037  \n",
       "13       6.369500            3341  \n",
       "14       6.320293           74808  \n",
       "15       6.235520           18899  \n",
       "16       6.232659            1038  \n",
       "17       6.186794           19870  \n",
       "18       6.159952            9646  \n",
       "19       6.059639            2329  \n",
       "20       6.043857            6959  \n",
       "21       5.941180           43300  \n",
       "22       5.931883           11630  \n",
       "23       5.848915            5900  \n",
       "24       5.646242           18812  \n",
       "25       5.474914           16826  \n",
       "26       5.202468            5389  \n",
       "27       4.785081           13560  "
      ]
     },
     "execution_count": 46,
     "metadata": {},
     "output_type": "execute_result"
    }
   ],
   "source": [
    "df_ratings_per_genre.sort_values(\"averageRating\", ascending=False).fillna(0).reset_index(drop=True)"
   ]
  },
  {
   "cell_type": "markdown",
   "metadata": {},
   "source": [
    "# Analyzing directors"
   ]
  },
  {
   "cell_type": "code",
   "execution_count": 47,
   "metadata": {},
   "outputs": [],
   "source": [
    "people_collaborations = collaborations.join(people, \"nconst\", \"inner\")"
   ]
  },
  {
   "cell_type": "code",
   "execution_count": 48,
   "metadata": {},
   "outputs": [],
   "source": [
    "people_movies_rated = people_collaborations.join(movies_rated, \"tconst\", \"inner\").cache()"
   ]
  },
  {
   "cell_type": "code",
   "execution_count": 49,
   "metadata": {},
   "outputs": [
    {
     "name": "stdout",
     "output_type": "stream",
     "text": [
      "root\n",
      " |-- tconst: string (nullable = true)\n",
      " |-- nconst: string (nullable = true)\n",
      " |-- ordering: integer (nullable = true)\n",
      " |-- category: string (nullable = true)\n",
      " |-- job: string (nullable = true)\n",
      " |-- characters: string (nullable = true)\n",
      " |-- primaryName: string (nullable = true)\n",
      " |-- birthYear: integer (nullable = true)\n",
      " |-- deathYear: integer (nullable = true)\n",
      " |-- primaryProfession: string (nullable = true)\n",
      " |-- knownForTitles: string (nullable = true)\n",
      " |-- primaryTitle: string (nullable = true)\n",
      " |-- isAdult: integer (nullable = true)\n",
      " |-- startYear: integer (nullable = true)\n",
      " |-- runtimeMinutes: float (nullable = true)\n",
      " |-- genres: array (nullable = true)\n",
      " |    |-- element: string (containsNull = true)\n",
      " |-- averageRating: double (nullable = true)\n",
      " |-- numVotes: integer (nullable = true)\n",
      " |-- ratingCategory: string (nullable = false)\n",
      " |-- decade: string (nullable = true)\n",
      "\n"
     ]
    }
   ],
   "source": [
    "people_movies_rated.printSchema()"
   ]
  },
  {
   "cell_type": "markdown",
   "metadata": {},
   "source": [
    "We filter by `col(\"deathYear\").isNull()` to only include directors who are alive and calculate the mean rating and number of movies per director."
   ]
  },
  {
   "cell_type": "code",
   "execution_count": 50,
   "metadata": {},
   "outputs": [],
   "source": [
    "director_average_rating = people_movies_rated\\\n",
    "    .where((col(\"category\")==\"director\") & (col(\"deathYear\").isNull()))\\\n",
    "    .groupBy(\"nconst\", \"primaryName\")\\\n",
    "    .agg(mean(\"averageRating\").alias(\"averageRating\"),\n",
    "         sum(lit(1)).alias(\"numberOfMovies\"))"
   ]
  },
  {
   "cell_type": "code",
   "execution_count": 51,
   "metadata": {},
   "outputs": [
    {
     "name": "stdout",
     "output_type": "stream",
     "text": [
      "+----------+--------------------+-----------------+--------------+\n",
      "|    nconst|         primaryName|    averageRating|numberOfMovies|\n",
      "+----------+--------------------+-----------------+--------------+\n",
      "| nm1957161|       Cheol-gyu Kim|9.336363636363636|            11|\n",
      "| nm5551047|         Won Suk Kim|9.044444444444444|            18|\n",
      "|nm11636776|       Park Shin Woo|          9.00625|            16|\n",
      "| nm7045165|Çagri Vila Lostuvali|8.988888888888889|            18|\n",
      "| nm1699689|         Metin Günay|8.628205128205131|            78|\n",
      "| nm8186290|          Akif Özkan|8.625000000000002|            72|\n",
      "| nm1732940|        Hakan Arslan|8.614545454545453|            55|\n",
      "| nm4624887|        Eung-bok Lee| 8.57857142857143|            14|\n",
      "| nm7270570|          Gil Ho Ahn|8.506666666666668|            15|\n",
      "| nm0488108|         Brian Large|8.495999999999999|            25|\n",
      "+----------+--------------------+-----------------+--------------+\n",
      "only showing top 10 rows\n",
      "\n"
     ]
    }
   ],
   "source": [
    "director_average_rating.where(col(\"numberOfMovies\")>10).orderBy(\"averageRating\", ascending=False).show(10)"
   ]
  },
  {
   "cell_type": "markdown",
   "metadata": {},
   "source": [
    "## Filter directors by genre"
   ]
  },
  {
   "cell_type": "markdown",
   "metadata": {},
   "source": [
    "We filter by directors who are still alive and join on the dataframe with exploded genres"
   ]
  },
  {
   "cell_type": "code",
   "execution_count": 52,
   "metadata": {},
   "outputs": [],
   "source": [
    "directors_genre_ratings = people_collaborations\\\n",
    "    .where((col(\"category\")==\"director\") & (col(\"deathYear\").isNull()))\\\n",
    "    .join(movies_rated_genres, \"tconst\", \"inner\")"
   ]
  },
  {
   "cell_type": "code",
   "execution_count": 53,
   "metadata": {},
   "outputs": [],
   "source": [
    "director_genres = directors_genre_ratings\\\n",
    "    .groupBy(\"nconst\", \"primaryName\")\\\n",
    "    .agg(collect_set(\"genre\").alias(\"directorGenres\")) # gets all unique occurrences of genre per director and puts them in an array"
   ]
  },
  {
   "cell_type": "code",
   "execution_count": 54,
   "metadata": {},
   "outputs": [
    {
     "name": "stdout",
     "output_type": "stream",
     "text": [
      "root\n",
      " |-- nconst: string (nullable = true)\n",
      " |-- primaryName: string (nullable = true)\n",
      " |-- directorGenres: array (nullable = true)\n",
      " |    |-- element: string (containsNull = false)\n",
      "\n"
     ]
    }
   ],
   "source": [
    "director_genres.printSchema()"
   ]
  },
  {
   "cell_type": "code",
   "execution_count": 55,
   "metadata": {},
   "outputs": [],
   "source": [
    "def contains_all(x, y):\n",
    "    y = array(*[lit(item) for item in y])\n",
    "    \"\"\"checks that spark array `x` contains all the elements in python array `y`\"\"\"\n",
    "    return size(array_intersect(x, y)) == size(y)"
   ]
  },
  {
   "cell_type": "markdown",
   "metadata": {},
   "source": [
    "Filter by directors who have all `desired_genres` in their array of genres"
   ]
  },
  {
   "cell_type": "code",
   "execution_count": 56,
   "metadata": {},
   "outputs": [],
   "source": [
    "desired_genres = [\"Documentary\", \"Sci-Fi\"]"
   ]
  },
  {
   "cell_type": "code",
   "execution_count": 57,
   "metadata": {},
   "outputs": [],
   "source": [
    "potential_directors = director_genres.where(contains_all(col(\"directorGenres\"), desired_genres))"
   ]
  },
  {
   "cell_type": "code",
   "execution_count": 58,
   "metadata": {},
   "outputs": [],
   "source": [
    "people_movies_genres_rated=people_collaborations.join(movies_rated_genres, \"tconst\", \"inner\").cache()"
   ]
  },
  {
   "cell_type": "code",
   "execution_count": 59,
   "metadata": {},
   "outputs": [
    {
     "name": "stdout",
     "output_type": "stream",
     "text": [
      "root\n",
      " |-- tconst: string (nullable = true)\n",
      " |-- nconst: string (nullable = true)\n",
      " |-- ordering: integer (nullable = true)\n",
      " |-- category: string (nullable = true)\n",
      " |-- job: string (nullable = true)\n",
      " |-- characters: string (nullable = true)\n",
      " |-- primaryName: string (nullable = true)\n",
      " |-- birthYear: integer (nullable = true)\n",
      " |-- deathYear: integer (nullable = true)\n",
      " |-- primaryProfession: string (nullable = true)\n",
      " |-- knownForTitles: string (nullable = true)\n",
      " |-- primaryTitle: string (nullable = true)\n",
      " |-- isAdult: integer (nullable = true)\n",
      " |-- startYear: integer (nullable = true)\n",
      " |-- runtimeMinutes: float (nullable = true)\n",
      " |-- averageRating: double (nullable = true)\n",
      " |-- numVotes: integer (nullable = true)\n",
      " |-- ratingCategory: string (nullable = false)\n",
      " |-- decade: string (nullable = true)\n",
      " |-- genre: string (nullable = true)\n",
      "\n"
     ]
    }
   ],
   "source": [
    "people_movies_genres_rated.printSchema()"
   ]
  },
  {
   "cell_type": "code",
   "execution_count": 60,
   "metadata": {},
   "outputs": [],
   "source": [
    "potential_directors = people_movies_genres_rated\\\n",
    "    .where((col(\"category\")==\"director\") & (col(\"deathYear\").isNull()) & (col(\"genre\").isin(desired_genres)))\\\n",
    "    .groupBy(\"nconst\")\\\n",
    "    .agg(mean(\"averageRating\").alias(\"averageRating\"),\n",
    "         sum(lit(1)).alias(\"numberOfMovies\"))\\\n",
    "    .join(potential_directors, \"nconst\", \"inner\") # only include directors who matched the contains_all filter"
   ]
  },
  {
   "cell_type": "code",
   "execution_count": 61,
   "metadata": {},
   "outputs": [
    {
     "data": {
      "text/markdown": [
       "There are **213** directors who fit our requirements."
      ],
      "text/plain": [
       "<IPython.core.display.Markdown object>"
      ]
     },
     "metadata": {},
     "output_type": "display_data"
    },
    {
     "name": "stdout",
     "output_type": "stream",
     "text": [
      "root\n",
      " |-- nconst: string (nullable = true)\n",
      " |-- averageRating: double (nullable = true)\n",
      " |-- numberOfMovies: long (nullable = true)\n",
      " |-- primaryName: string (nullable = true)\n",
      " |-- directorGenres: array (nullable = true)\n",
      " |    |-- element: string (containsNull = false)\n",
      "\n"
     ]
    }
   ],
   "source": [
    "display(Markdown(f\"There are **{potential_directors.count()}** directors who fit our requirements.\"))\n",
    "potential_directors.printSchema()"
   ]
  },
  {
   "cell_type": "code",
   "execution_count": 62,
   "metadata": {},
   "outputs": [
    {
     "data": {
      "text/markdown": [
       "Top 10 directors ranked by *averageRating*:"
      ],
      "text/plain": [
       "<IPython.core.display.Markdown object>"
      ]
     },
     "metadata": {},
     "output_type": "display_data"
    },
    {
     "name": "stdout",
     "output_type": "stream",
     "text": [
      "+---------+------------------+--------------+--------------------+--------------------+\n",
      "|   nconst|     averageRating|numberOfMovies|         primaryName|      directorGenres|\n",
      "+---------+------------------+--------------+--------------------+--------------------+\n",
      "|nm0539950| 8.274074074074075|            27|        David Mallet|[Fantasy, Comedy,...|\n",
      "|nm0005069|            8.1625|             8|         Spike Jonze|[Fantasy, Adventu...|\n",
      "|nm0335283|7.7250000000000005|             4|         Brian Grant|[Thriller, Action...|\n",
      "|nm0000709| 7.583333333333333|             6|     Robert Zemeckis|[Thriller, Action...|\n",
      "|nm1361273| 7.582352941176471|            17|Charles de Lauzirika|[Thriller, Drama,...|\n",
      "|nm0531817|              7.57|            10|     Kevin Macdonald|[Thriller, Histor...|\n",
      "|nm0002206|              7.56|             5|      Kevin Brownlow|[War, Drama, Horr...|\n",
      "|nm0517665|               7.5|             4|           Tom Logan|[Thriller, Action...|\n",
      "|nm3422061|              7.38|             5|        Simon George|[Action, Crime, D...|\n",
      "|nm0791556| 7.328571428571428|             7|           Jon Shenk|[Crime, Documenta...|\n",
      "+---------+------------------+--------------+--------------------+--------------------+\n",
      "only showing top 10 rows\n",
      "\n"
     ]
    }
   ],
   "source": [
    "show=10\n",
    "\n",
    "display(Markdown(f\"Top {show} directors ranked by *averageRating*:\"))\n",
    "\n",
    "potential_directors.where(col(\"numberOfMovies\")>3).orderBy(\"averageRating\", ascending=False).show(show)"
   ]
  }
 ],
 "metadata": {
  "kernelspec": {
   "display_name": "Python 3",
   "language": "python",
   "name": "python3"
  },
  "language_info": {
   "codemirror_mode": {
    "name": "ipython",
    "version": 3
   },
   "file_extension": ".py",
   "mimetype": "text/x-python",
   "name": "python",
   "nbconvert_exporter": "python",
   "pygments_lexer": "ipython3",
   "version": "3.7.9"
  }
 },
 "nbformat": 4,
 "nbformat_minor": 4
}
