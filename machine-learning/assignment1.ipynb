{
 "cells": [
  {
   "cell_type": "code",
   "execution_count": 6,
   "id": "245fed29-4d5a-40e7-aaea-c2c88e29e8ae",
   "metadata": {},
   "outputs": [],
   "source": [
    "    import os\n",
    "    import numpy as np\n",
    "    import matplotlib.pyplot as plt"
   ]
  },
  {
   "cell_type": "code",
   "execution_count": 7,
   "id": "914f2517-c865-44b1-9fc4-ca150d337ce6",
   "metadata": {},
   "outputs": [],
   "source": [
    "import copy"
   ]
  },
  {
   "cell_type": "code",
   "execution_count": 8,
   "id": "8c2238c5-c3e7-41b3-b36c-6d69664a7602",
   "metadata": {},
   "outputs": [
    {
     "name": "stdout",
     "output_type": "stream",
     "text": [
      "['dead', 'test']\n"
     ]
    },
    {
     "ename": "NameError",
     "evalue": "name 'classnames' is not defined",
     "output_type": "error",
     "traceback": [
      "\u001b[1;31m---------------------------------------------------------------------------\u001b[0m",
      "\u001b[1;31mNameError\u001b[0m                                 Traceback (most recent call last)",
      "\u001b[1;32m<ipython-input-8-cba3d19638f2>\u001b[0m in \u001b[0;36m<module>\u001b[1;34m\u001b[0m\n\u001b[0;32m     18\u001b[0m \u001b[1;33m\u001b[0m\u001b[0m\n\u001b[0;32m     19\u001b[0m         \u001b[1;32massert\u001b[0m \u001b[0mtest_or_train\u001b[0m \u001b[1;32min\u001b[0m \u001b[1;33m(\u001b[0m\u001b[1;34m\"test\"\u001b[0m\u001b[1;33m,\u001b[0m \u001b[1;34m\"train\"\u001b[0m\u001b[1;33m)\u001b[0m\u001b[1;33m\u001b[0m\u001b[1;33m\u001b[0m\u001b[0m\n\u001b[1;32m---> 20\u001b[1;33m         \u001b[1;32mif\u001b[0m \u001b[0mclass_name\u001b[0m \u001b[1;32mnot\u001b[0m \u001b[1;32min\u001b[0m \u001b[0mclassnames\u001b[0m\u001b[1;33m:\u001b[0m\u001b[1;33m\u001b[0m\u001b[1;33m\u001b[0m\u001b[0m\n\u001b[0m\u001b[0;32m     21\u001b[0m             \u001b[0mclassnames\u001b[0m\u001b[1;33m.\u001b[0m\u001b[0mappend\u001b[0m\u001b[1;33m(\u001b[0m\u001b[0mclass_name\u001b[0m\u001b[1;33m)\u001b[0m\u001b[1;33m\u001b[0m\u001b[1;33m\u001b[0m\u001b[0m\n\u001b[0;32m     22\u001b[0m         \u001b[0mlabel\u001b[0m \u001b[1;33m=\u001b[0m \u001b[0mclassnames\u001b[0m\u001b[1;33m.\u001b[0m\u001b[0mindex\u001b[0m\u001b[1;33m(\u001b[0m\u001b[0mclass_name\u001b[0m\u001b[1;33m)\u001b[0m\u001b[1;33m\u001b[0m\u001b[1;33m\u001b[0m\u001b[0m\n",
      "\u001b[1;31mNameError\u001b[0m: name 'classnames' is not defined"
     ]
    }
   ],
   "source": [
    "dataset = {\n",
    "\"features\": [],\n",
    "\"labels\": [],\n",
    "}\n",
    "datasets = {\n",
    "    \"test\": copy.deepcopy(dataset),\n",
    "    \"train\": copy.deepcopy(dataset)\n",
    "}\n",
    "\n",
    "for root, dirs, files in os.walk(\"AssignmentData\"):\n",
    "\n",
    "\n",
    "    for name in files:\n",
    "        path_split = root.split(\"\\\\\")\n",
    "        print(path_split[-2:])\n",
    "        class_name = path_split[-2]\n",
    "        test_or_train = path_split[-1]\n",
    "\n",
    "        assert test_or_train in (\"test\", \"train\")\n",
    "        if class_name not in classnames:\n",
    "            classnames.append(class_name)\n",
    "        label = classnames.index(class_name)\n",
    "        imgFile = os.path.join(root, name)\n",
    "        img = plt.imread(imgFile).ravel()\n",
    "        if test_or_train == \"test\":\n",
    "            print(f\"{test_or_train=}\")\n",
    "            print(label)\n",
    "        datasets[test_or_train][\"features\"].append(img)\n",
    "        datasets[test_or_train][\"labels\"].append(label)\n",
    "        \n",
    "   #for name in dirs:\n",
    "   #   print(os.path.join(root, name))"
   ]
  },
  {
   "cell_type": "code",
   "execution_count": 11,
   "id": "1f7c4a35-b59c-457a-9f18-c78021aca2a0",
   "metadata": {
    "colab": {
     "base_uri": "https://localhost:8080/"
    },
    "executionInfo": {
     "elapsed": 721224,
     "status": "ok",
     "timestamp": 1621586869011,
     "user": {
      "displayName": "Hind Azegrouz",
      "photoUrl": "https://lh3.googleusercontent.com/a-/AOh14GjvxZwf3xHLjP20-rDF8ak0jofmxkoyF3nUHrTs=s64",
      "userId": "04469582049561885297"
     },
     "user_tz": -120
    },
    "id": "4LotzVapCtJv",
    "outputId": "61d80d9e-c425-4487-b59f-4548eceae9de",
    "scrolled": true
   },
   "outputs": [],
   "source": [
    "def prep_data (folder):\n",
    "    # iterate through folders, assembling feature, label, and classname data objects\n",
    "    dataset = {\n",
    "    \"features\": [],\n",
    "    \"labels\": [],\n",
    "    }\n",
    "    datasets = {\n",
    "        \"test\": copy.deepcopy(dataset),\n",
    "        \"train\": copy.deepcopy(dataset)\n",
    "    }\n",
    "    classnames=[]\n",
    "    for root, dirs, files in os.walk(folder):\n",
    "\n",
    "\n",
    "        for name in files:\n",
    "            path_split = root.split(\"\\\\\")\n",
    "            class_name = path_split[-2]\n",
    "            test_or_train = path_split[-1]\n",
    "\n",
    "            assert test_or_train in (\"test\", \"train\")\n",
    "            if class_name not in classnames:\n",
    "                classnames.append(class_name)\n",
    "            label = classnames.index(class_name)\n",
    "            imgFile = os.path.join(root, name)\n",
    "            img = plt.imread(imgFile).ravel()\n",
    "            datasets[test_or_train][\"features\"].append(img)\n",
    "            datasets[test_or_train][\"labels\"].append(label)\n",
    "    \n",
    "    return datasets, classnames"
   ]
  },
  {
   "cell_type": "code",
   "execution_count": 14,
   "id": "78a848be-4a6b-45a3-b7e9-bd1101092627",
   "metadata": {
    "colab": {
     "base_uri": "https://localhost:8080/"
    },
    "executionInfo": {
     "elapsed": 721224,
     "status": "ok",
     "timestamp": 1621586869011,
     "user": {
      "displayName": "Hind Azegrouz",
      "photoUrl": "https://lh3.googleusercontent.com/a-/AOh14GjvxZwf3xHLjP20-rDF8ak0jofmxkoyF3nUHrTs=s64",
      "userId": "04469582049561885297"
     },
     "user_tz": -120
    },
    "id": "4LotzVapCtJv",
    "outputId": "61d80d9e-c425-4487-b59f-4548eceae9de",
    "scrolled": true
   },
   "outputs": [
    {
     "name": "stdout",
     "output_type": "stream",
     "text": [
      "2, classnames=['dead', 'live']\n"
     ]
    }
   ],
   "source": [
    "# The images are in a folder named 'shapes/training'\n",
    "training_folder_name =  'AssignmentData'\n",
    "\n",
    "# Prepare the image data\n",
    "datasets, classnames = prep_data(training_folder_name)\n",
    "\n",
    "print(f\"{len(classnames)}, {classnames=}\")"
   ]
  },
  {
   "cell_type": "code",
   "execution_count": 20,
   "id": "b4ee1aaf-85c7-40a2-9c48-f034b532d061",
   "metadata": {},
   "outputs": [],
   "source": [
    "X_train = np.array(datasets[\"train\"][\"features\"])\n",
    "X_test = np.array(datasets[\"test\"][\"features\"])\n",
    "Y_train = np.array(datasets[\"train\"][\"labels\"])\n",
    "Y_test = np.array(datasets[\"test\"][\"labels\"])"
   ]
  },
  {
   "cell_type": "code",
   "execution_count": 21,
   "id": "19f7abf6-f1f6-4aca-8755-be644e40f74a",
   "metadata": {},
   "outputs": [
    {
     "name": "stdout",
     "output_type": "stream",
     "text": [
      "Training records: 70\n",
      "Test records: 30\n"
     ]
    }
   ],
   "source": [
    "print('Training records:',Y_train.size)\n",
    "print('Test records:',Y_test.size)"
   ]
  },
  {
   "cell_type": "code",
   "execution_count": 22,
   "id": "b902c705-4cb7-4e00-83f2-c76fa8af16af",
   "metadata": {
    "colab": {
     "base_uri": "https://localhost:8080/"
    },
    "executionInfo": {
     "elapsed": 6461,
     "status": "ok",
     "timestamp": 1621586876686,
     "user": {
      "displayName": "Hind Azegrouz",
      "photoUrl": "https://lh3.googleusercontent.com/a-/AOh14GjvxZwf3xHLjP20-rDF8ak0jofmxkoyF3nUHrTs=s64",
      "userId": "04469582049561885297"
     },
     "user_tz": -120
    },
    "id": "HA9LjMDVCtKC",
    "outputId": "57a73fb2-7534-4e67-8de0-ac87a29ed338"
   },
   "outputs": [
    {
     "name": "stdout",
     "output_type": "stream",
     "text": [
      "Training model...\n",
      "classifier trained!\n"
     ]
    }
   ],
   "source": [
    "# Train the model\n",
    "from sklearn.pipeline import Pipeline\n",
    "from sklearn.preprocessing import MinMaxScaler\n",
    "from sklearn.tree import DecisionTreeClassifier\n",
    "\n",
    "# Convert the training features to floats so they can be scaled\n",
    "X_train_float = X_train.astype('float64')\n",
    "\n",
    "# Our pipeline performs two tasks:\n",
    "#   1. Normalize the image arrays\n",
    "#   2. Train a classification model\n",
    "img_pipeline = Pipeline([('norm', MinMaxScaler()),\n",
    "                         ('classify', DecisionTreeClassifier()),\n",
    "                        ])\n",
    "\n",
    "# Use the pipeline to fit a model to the training data\n",
    "print(\"Training model...\")\n",
    "clf = img_pipeline.fit(X_train_float, Y_train)\n",
    "\n",
    "print('classifier trained!')"
   ]
  },
  {
   "cell_type": "code",
   "execution_count": null,
   "id": "22594d4a-6bcc-4d74-ac68-7791551cd767",
   "metadata": {},
   "outputs": [],
   "source": []
  },
  {
   "cell_type": "code",
   "execution_count": 23,
   "id": "96fdf6e3-0256-45c9-8e4b-385c71e2e066",
   "metadata": {
    "colab": {
     "base_uri": "https://localhost:8080/",
     "height": 544
    },
    "executionInfo": {
     "elapsed": 54,
     "status": "ok",
     "timestamp": 1621586876690,
     "user": {
      "displayName": "Hind Azegrouz",
      "photoUrl": "https://lh3.googleusercontent.com/a-/AOh14GjvxZwf3xHLjP20-rDF8ak0jofmxkoyF3nUHrTs=s64",
      "userId": "04469582049561885297"
     },
     "user_tz": -120
    },
    "id": "WdYztG5qCtKG",
    "outputId": "6f927db3-b9d9-4469-b572-92f56c90c349"
   },
   "outputs": [
    {
     "name": "stdout",
     "output_type": "stream",
     "text": [
      "Classifier Metrics:\n",
      "              precision    recall  f1-score   support\n",
      "\n",
      "        dead       0.76      1.00      0.87        13\n",
      "        live       1.00      0.76      0.87        17\n",
      "\n",
      "    accuracy                           0.87        30\n",
      "   macro avg       0.88      0.88      0.87        30\n",
      "weighted avg       0.90      0.87      0.87        30\n",
      "\n",
      "Accuracy: 86.67%\n",
      "\n",
      " Confusion Matrix:\n"
     ]
    },
    {
     "data": {
      "image/png": "[encoded data removed]",
      "text/plain": [
       "<Figure size 432x288 with 2 Axes>"
      ]
     },
     "metadata": {
      "needs_background": "light"
     },
     "output_type": "display_data"
    }
   ],
   "source": [
    "# Evaluate classifier\n",
    "from sklearn import metrics\n",
    "from sklearn.metrics import accuracy_score, confusion_matrix\n",
    "import numpy as np\n",
    "import matplotlib.pyplot as plt\n",
    "%matplotlib inline\n",
    "\n",
    "# Convert the test features for scaling\n",
    "X_test_float = X_test.astype('float64')\n",
    "\n",
    "print('Classifier Metrics:')\n",
    "predictions = clf.predict(X_test)\n",
    "print(metrics.classification_report(Y_test, predictions, target_names=classnames))\n",
    "print('Accuracy: {:.2%}'.format(metrics.accuracy_score(Y_test, predictions)))\n",
    "\n",
    "print(\"\\n Confusion Matrix:\")\n",
    "cm = confusion_matrix(Y_test, np.round(predictions, 0))\n",
    "# Plot confusion matrix as heatmap\n",
    "plt.imshow(cm, interpolation=\"nearest\", cmap=plt.cm.Blues)\n",
    "plt.colorbar()\n",
    "tick_marks = np.arange(len(classnames))\n",
    "plt.xticks(tick_marks, classnames, rotation=85)\n",
    "plt.yticks(tick_marks, classnames)\n",
    "plt.xlabel(\"Predicted Label\")\n",
    "plt.ylabel(\"True Label\")\n",
    "plt.show()"
   ]
  },
  {
   "cell_type": "code",
   "execution_count": 24,
   "id": "e99e0be2-7b22-4196-9182-a4cefe294b5f",
   "metadata": {
    "colab": {
     "base_uri": "https://localhost:8080/"
    },
    "executionInfo": {
     "elapsed": 37,
     "status": "ok",
     "timestamp": 1621586876694,
     "user": {
      "displayName": "Hind Azegrouz",
      "photoUrl": "https://lh3.googleusercontent.com/a-/AOh14GjvxZwf3xHLjP20-rDF8ak0jofmxkoyF3nUHrTs=s64",
      "userId": "04469582049561885297"
     },
     "user_tz": -120
    },
    "id": "GnrMiOZfCtKR",
    "outputId": "41ad757a-4c37-4b57-bd3a-dd6a0cfac786"
   },
   "outputs": [
    {
     "name": "stdout",
     "output_type": "stream",
     "text": [
      "Exporting the model\n"
     ]
    }
   ],
   "source": [
    "# Save the trained model\n",
    "import sys\n",
    "import os\n",
    "import pickle\n",
    "\n",
    "print (\"Exporting the model\")\n",
    "file_stream = open('shape_classifier.pkl', 'wb')\n",
    "pickle.dump(clf, file_stream)\n",
    "file_stream.close()"
   ]
  },
  {
   "cell_type": "code",
   "execution_count": null,
   "id": "4350694a-5f2d-40cf-8400-de6df6a8ed3d",
   "metadata": {},
   "outputs": [],
   "source": []
  }
 ],
 "metadata": {
  "kernelspec": {
   "display_name": "Python 3",
   "language": "python",
   "name": "python3"
  },
  "language_info": {
   "codemirror_mode": {
    "name": "ipython",
    "version": 3
   },
   "file_extension": ".py",
   "mimetype": "text/x-python",
   "name": "python",
   "nbconvert_exporter": "python",
   "pygments_lexer": "ipython3",
   "version": "3.8.10"
  }
 },
 "nbformat": 4,
 "nbformat_minor": 5
}
